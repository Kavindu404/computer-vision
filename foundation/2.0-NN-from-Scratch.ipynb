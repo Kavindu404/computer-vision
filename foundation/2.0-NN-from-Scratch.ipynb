{
 "cells": [
  {
   "cell_type": "markdown",
   "id": "dcf3e053",
   "metadata": {},
   "source": [
    "Date: 25/07/2022\n",
    "\n",
    "Author: @kavindu404"
   ]
  },
  {
   "cell_type": "markdown",
   "id": "607e381b",
   "metadata": {},
   "source": [
    "# Multi Class Classification From Scratch (Part 2)"
   ]
  },
  {
   "cell_type": "markdown",
   "id": "1f1ac939",
   "metadata": {},
   "source": [
    "Welcome to part 2 of the mini blog series on multi class classification from scratch. In first part, we used pixel similarity to predict the class of the digit. In this one, we will be using a simle neural network from scratch. Same as the last one, we start with importing fastai vision library and stacking up the data w.r.t classes like we did in the previous part."
   ]
  },
  {
   "cell_type": "code",
   "execution_count": 1,
   "id": "6e6e759b",
   "metadata": {},
   "outputs": [
    {
     "name": "stderr",
     "output_type": "stream",
     "text": [
      "/usr/lib/python3/dist-packages/requests/__init__.py:89: RequestsDependencyWarning: urllib3 (1.26.12) or chardet (3.0.4) doesn't match a supported version!\n",
      "  warnings.warn(\"urllib3 ({}) or chardet ({}) doesn't match a supported \"\n"
     ]
    }
   ],
   "source": [
    "from fastai.vision.all import *"
   ]
  },
  {
   "cell_type": "code",
   "execution_count": 2,
   "id": "e63b7339",
   "metadata": {},
   "outputs": [
    {
     "data": {
      "text/plain": [
       "(#2) [Path('testing'),Path('training')]"
      ]
     },
     "execution_count": 2,
     "metadata": {},
     "output_type": "execute_result"
    }
   ],
   "source": [
    "path = untar_data(URLs.MNIST)\n",
    "Path.BASE_PATH = path\n",
    "path.ls()"
   ]
  },
  {
   "cell_type": "code",
   "execution_count": 3,
   "id": "dbc64c73",
   "metadata": {},
   "outputs": [],
   "source": [
    "zeros = (path/'training'/'0').ls().sorted()\n",
    "ones = (path/'training'/'1').ls().sorted()\n",
    "twos = (path/'training'/'2').ls().sorted()\n",
    "threes = (path/'training'/'3').ls().sorted()\n",
    "fours = (path/'training'/'4').ls().sorted()\n",
    "fives = (path/'training'/'5').ls().sorted()\n",
    "sixes = (path/'training'/'6').ls().sorted()\n",
    "sevens = (path/'training'/'7').ls().sorted()\n",
    "eights = (path/'training'/'8').ls().sorted()\n",
    "nines = (path/'training'/'9').ls().sorted()"
   ]
  },
  {
   "cell_type": "code",
   "execution_count": 4,
   "id": "77987917",
   "metadata": {},
   "outputs": [],
   "source": [
    "stacked_zeros = torch.stack([tensor(Image.open(o)) for o in zeros]).float()/255\n",
    "stacked_ones = torch.stack([tensor(Image.open(o)) for o in ones]).float()/255\n",
    "stacked_twos = torch.stack([tensor(Image.open(o)) for o in twos]).float()/255\n",
    "stacked_threes = torch.stack([tensor(Image.open(o)) for o in threes]).float()/255\n",
    "stacked_fours = torch.stack([tensor(Image.open(o)) for o in fours]).float()/255\n",
    "stacked_fives = torch.stack([tensor(Image.open(o)) for o in fives]).float()/255\n",
    "stacked_sixes = torch.stack([tensor(Image.open(o)) for o in sixes]).float()/255\n",
    "stacked_sevens = torch.stack([tensor(Image.open(o)) for o in sevens]).float()/255\n",
    "stacked_eights = torch.stack([tensor(Image.open(o)) for o in eights]).float()/255\n",
    "stacked_nines = torch.stack([tensor(Image.open(o)) for o in nines]).float()/255"
   ]
  },
  {
   "cell_type": "code",
   "execution_count": 6,
   "id": "20256259",
   "metadata": {},
   "outputs": [
    {
     "data": {
      "text/plain": [
       "(torch.Size([60000, 784]), torch.Size([60000, 1]))"
      ]
     },
     "execution_count": 6,
     "metadata": {},
     "output_type": "execute_result"
    }
   ],
   "source": [
    "train_x = torch.cat([stacked_zeros, stacked_ones, stacked_twos, stacked_threes, stacked_fours, stacked_fives, stacked_sixes, stacked_sevens, stacked_eights, stacked_nines]).view(-1, 28*28)\n",
    "train_y = tensor([0]*len(zeros)+[1]*len(ones)+[2]*len(twos)+[3]*len(threes)+[4]*len(fours)+[5]*len(fives)+[6]*len(sixes)+[7]*len(sevens)+[8]*len(eights)+[9]*len(nines)).unsqueeze(1)\n",
    "train_x.shape, train_y.shape"
   ]
  },
  {
   "cell_type": "markdown",
   "id": "2648ffc4",
   "metadata": {},
   "source": [
    "Here, we create a dataset by coupling the image with its label. We do the same for the validation set."
   ]
  },
  {
   "cell_type": "code",
   "execution_count": 7,
   "id": "06516daf",
   "metadata": {},
   "outputs": [
    {
     "data": {
      "text/plain": [
       "(torch.Size([784]), torch.Size([1]))"
      ]
     },
     "execution_count": 7,
     "metadata": {},
     "output_type": "execute_result"
    }
   ],
   "source": [
    "train_dset = list(zip(train_x, train_y))\n",
    "x, y = train_dset[100]\n",
    "x.shape, y.shape"
   ]
  },
  {
   "cell_type": "code",
   "execution_count": 8,
   "id": "e28ba7cf",
   "metadata": {},
   "outputs": [],
   "source": [
    "valid_zeros = (path/'testing'/'0').ls().sorted()\n",
    "valid_ones = (path/'testing'/'1').ls().sorted()\n",
    "valid_twos = (path/'testing'/'2').ls().sorted()\n",
    "valid_threes = (path/'testing'/'3').ls().sorted()\n",
    "valid_fours = (path/'testing'/'4').ls().sorted()\n",
    "valid_fives = (path/'testing'/'5').ls().sorted()\n",
    "valid_sixes = (path/'testing'/'6').ls().sorted()\n",
    "valid_sevens = (path/'testing'/'7').ls().sorted()\n",
    "valid_eights = (path/'testing'/'8').ls().sorted()\n",
    "valid_nines = (path/'testing'/'9').ls().sorted()"
   ]
  },
  {
   "cell_type": "code",
   "execution_count": 9,
   "id": "30508911",
   "metadata": {},
   "outputs": [],
   "source": [
    "valid_stacked_zeros = torch.stack([tensor(Image.open(o)) for o in valid_zeros]).float()/255\n",
    "valid_stacked_ones = torch.stack([tensor(Image.open(o)) for o in valid_ones]).float()/255\n",
    "valid_stacked_twos = torch.stack([tensor(Image.open(o)) for o in valid_twos]).float()/255\n",
    "valid_stacked_threes = torch.stack([tensor(Image.open(o)) for o in valid_threes]).float()/255\n",
    "valid_stacked_fours = torch.stack([tensor(Image.open(o)) for o in valid_fours]).float()/255\n",
    "valid_stacked_fives = torch.stack([tensor(Image.open(o)) for o in valid_fives]).float()/255\n",
    "valid_stacked_sixes = torch.stack([tensor(Image.open(o)) for o in valid_sixes]).float()/255\n",
    "valid_stacked_sevens = torch.stack([tensor(Image.open(o)) for o in valid_sevens]).float()/255\n",
    "valid_stacked_eights = torch.stack([tensor(Image.open(o)) for o in valid_eights]).float()/255\n",
    "valid_stacked_nines = torch.stack([tensor(Image.open(o)) for o in valid_nines]).float()/255"
   ]
  },
  {
   "cell_type": "code",
   "execution_count": 10,
   "id": "49068a5a",
   "metadata": {},
   "outputs": [
    {
     "data": {
      "text/plain": [
       "(torch.Size([10000, 784]), torch.Size([10000, 1]))"
      ]
     },
     "execution_count": 10,
     "metadata": {},
     "output_type": "execute_result"
    }
   ],
   "source": [
    "valid_x = torch.cat([valid_stacked_zeros, valid_stacked_ones, valid_stacked_twos, valid_stacked_threes, valid_stacked_fours, valid_stacked_fives, valid_stacked_sixes, valid_stacked_sevens, valid_stacked_eights, valid_stacked_nines]).view(-1, 28*28)\n",
    "valid_y = tensor([0]*len(valid_zeros)+[1]*len(valid_ones)+[2]*len(valid_twos)+[3]*len(valid_threes)+[4]*len(valid_fours)+[5]*len(valid_fives)+[6]*len(valid_sixes)+[7]*len(valid_sevens)+[8]*len(valid_eights)+[9]*len(valid_nines)).unsqueeze(1)\n",
    "valid_x.shape, valid_y.shape"
   ]
  },
  {
   "cell_type": "code",
   "execution_count": 11,
   "id": "b96d278d",
   "metadata": {},
   "outputs": [],
   "source": [
    "valid_dset = list(zip(valid_x, valid_y))"
   ]
  },
  {
   "cell_type": "markdown",
   "id": "57f31049",
   "metadata": {},
   "source": [
    "In the FastAI book, Jeremy explain a 7-step process that we gonna follow. The steps are as below;\n",
    "\n",
    "1. *Initialize* the weights.\n",
    "1. For each image, use these weights to *predict* the class.\n",
    "1. Based on these predictions, calculate how good the model is (its *loss*).\n",
    "1. Calculate the *gradient*, which measures for each weight, how changing that weight would change the loss\n",
    "1. *Step* (that is, change) all the weights based on that calculation.\n",
    "1. Go back to the step 2, and *repeat* the process.\n",
    "1. Iterate until you decide to *stop* the training process (for instance, because the model is good enough or you don't want to wait any longer)."
   ]
  },
  {
   "cell_type": "markdown",
   "id": "2b8c95aa",
   "metadata": {},
   "source": [
    "So first, we write a function to init the weights. "
   ]
  },
  {
   "cell_type": "code",
   "execution_count": 12,
   "id": "5acf923d",
   "metadata": {},
   "outputs": [],
   "source": [
    "def init_param(size, std=1.0): return (torch.randn(size)*std).requires_grad_()"
   ]
  },
  {
   "cell_type": "code",
   "execution_count": 13,
   "id": "cdf7c522",
   "metadata": {},
   "outputs": [
    {
     "data": {
      "text/plain": [
       "torch.Size([784, 10])"
      ]
     },
     "execution_count": 13,
     "metadata": {},
     "output_type": "execute_result"
    }
   ],
   "source": [
    "weights = init_param((28*28, 10))\n",
    "bias = init_param(10)\n",
    "weights.shape"
   ]
  },
  {
   "cell_type": "markdown",
   "id": "4da95392",
   "metadata": {},
   "source": [
    "In order to predict the class, we need a small model. So in the following function, we take the data"
   ]
  },
  {
   "cell_type": "code",
   "execution_count": 13,
   "id": "074948c5",
   "metadata": {},
   "outputs": [],
   "source": [
    "def linear1(xb): return xb@weights+bias"
   ]
  },
  {
   "cell_type": "code",
   "execution_count": 31,
   "id": "ccbcc580",
   "metadata": {},
   "outputs": [],
   "source": [
    "def softmax(x): return torch.exp(x)/torch.exp(x).sum(dim=1, keepdim=True)"
   ]
  },
  {
   "cell_type": "code",
   "execution_count": 61,
   "id": "a8f36ac7",
   "metadata": {},
   "outputs": [],
   "source": [
    "def crossentropy_loss(inputs, targets):\n",
    "    activations = softmax(inputs)\n",
    "    return -activations[range(inputs.shape[0]), targets].log().mean()"
   ]
  },
  {
   "cell_type": "code",
   "execution_count": 14,
   "id": "7275d82a",
   "metadata": {},
   "outputs": [
    {
     "data": {
      "text/plain": [
       "(torch.Size([256, 784]), torch.Size([256, 1]))"
      ]
     },
     "execution_count": 14,
     "metadata": {},
     "output_type": "execute_result"
    }
   ],
   "source": [
    "dl = DataLoader(train_dset, batch_size=256)\n",
    "xb,yb = first(dl)\n",
    "xb.shape, yb.shape"
   ]
  },
  {
   "cell_type": "code",
   "execution_count": 15,
   "id": "5d686449",
   "metadata": {},
   "outputs": [],
   "source": [
    "valid_dl = DataLoader(valid_dset, batch_size=256)"
   ]
  },
  {
   "cell_type": "code",
   "execution_count": 16,
   "id": "66b2f7ea",
   "metadata": {},
   "outputs": [
    {
     "data": {
      "text/plain": [
       "torch.Size([4, 784])"
      ]
     },
     "execution_count": 16,
     "metadata": {},
     "output_type": "execute_result"
    }
   ],
   "source": [
    "batch = train_x[:4]\n",
    "batch.shape"
   ]
  },
  {
   "cell_type": "code",
   "execution_count": 27,
   "id": "20ee77ff",
   "metadata": {},
   "outputs": [
    {
     "data": {
      "text/plain": [
       "torch.Size([4, 10])"
      ]
     },
     "execution_count": 27,
     "metadata": {},
     "output_type": "execute_result"
    }
   ],
   "source": [
    "preds = linear1(batch)\n",
    "preds.shape"
   ]
  },
  {
   "cell_type": "code",
   "execution_count": 62,
   "id": "ca766c39",
   "metadata": {},
   "outputs": [
    {
     "data": {
      "text/plain": [
       "tensor(6.8755, grad_fn=<NegBackward>)"
      ]
     },
     "execution_count": 62,
     "metadata": {},
     "output_type": "execute_result"
    }
   ],
   "source": [
    "loss = crossentropy_loss(preds, train_y[:4])\n",
    "loss"
   ]
  },
  {
   "cell_type": "code",
   "execution_count": 35,
   "id": "9e976e94",
   "metadata": {},
   "outputs": [
    {
     "data": {
      "text/plain": [
       "(torch.Size([784, 10]),\n",
       " tensor(-4.8657e-10),\n",
       " tensor([-7.0888e-01,  2.8543e-06,  4.8870e-01,  6.0059e-05,  1.6474e-05,\n",
       "          1.1222e-13,  4.8580e-04,  1.6173e-02,  5.2512e-07,  2.0344e-01]))"
      ]
     },
     "execution_count": 35,
     "metadata": {},
     "output_type": "execute_result"
    }
   ],
   "source": [
    "loss.backward()\n",
    "weights.grad.shape,weights.grad.mean(),bias.grad"
   ]
  },
  {
   "cell_type": "code",
   "execution_count": 38,
   "id": "bb2c6f84",
   "metadata": {},
   "outputs": [],
   "source": [
    "def calc_grad(xb, yb, model):\n",
    "    preds = model(xb)\n",
    "    loss = crossentropy_loss(preds, yb)\n",
    "    loss.backward()"
   ]
  },
  {
   "cell_type": "code",
   "execution_count": 39,
   "id": "4292418e",
   "metadata": {},
   "outputs": [],
   "source": [
    "def train_epoch(model, lr, param):\n",
    "    for xb, yb in dl:\n",
    "        calc_grad(xb, yb, model)\n",
    "        for p in params:\n",
    "            p.data -= p.grad*lr\n",
    "            p.grad.zero_()"
   ]
  },
  {
   "cell_type": "code",
   "execution_count": 81,
   "id": "e3f35319",
   "metadata": {},
   "outputs": [],
   "source": [
    "def train_model(model,lr, param, epochs):\n",
    "    val_acc = []\n",
    "    for i in range (epochs):\n",
    "        train_epoch(model, lr, param)\n",
    "        val_acc.append(validate_epoch(model))\n",
    "    return val_acc"
   ]
  },
  {
   "cell_type": "code",
   "execution_count": 66,
   "id": "3a6c54b2",
   "metadata": {},
   "outputs": [],
   "source": [
    "def batch_accuracy(preds,yb):\n",
    "    correct=preds.max(axis=1)[1]==yb\n",
    "    return correct.float().mean()"
   ]
  },
  {
   "cell_type": "code",
   "execution_count": 67,
   "id": "d8fe001b",
   "metadata": {},
   "outputs": [],
   "source": [
    "def validate_epoch(model):\n",
    "    accs = [batch_accuracy(model(xb), yb) for xb, yb in valid_dl]\n",
    "    return round(torch.stack(accs).mean().item(), 4)"
   ]
  },
  {
   "cell_type": "code",
   "execution_count": 83,
   "id": "9404ce4f",
   "metadata": {},
   "outputs": [
    {
     "data": {
      "text/plain": [
       "[<matplotlib.lines.Line2D at 0x7fb3be1451d0>]"
      ]
     },
     "execution_count": 83,
     "metadata": {},
     "output_type": "execute_result"
    },
    {
     "data": {
      "image/png": "[encoded data removed]",
      "text/plain": [
       "<Figure size 432x288 with 1 Axes>"
      ]
     },
     "metadata": {
      "needs_background": "light"
     },
     "output_type": "display_data"
    }
   ],
   "source": [
    "weights = init_param((28*28, 10))\n",
    "bias = init_param(10)\n",
    "params = weights,bias\n",
    "lr = 1e-1\n",
    "val_acc=(train_model(linear1, lr, params, 100))\n",
    "plt.plot(range(100), val_acc)"
   ]
  },
  {
   "cell_type": "code",
   "execution_count": null,
   "id": "aebffc63",
   "metadata": {},
   "outputs": [],
   "source": []
  }
 ],
 "metadata": {
  "kernelspec": {
   "display_name": "Python 3 (ipykernel)",
   "language": "python",
   "name": "python3"
  },
  "language_info": {
   "codemirror_mode": {
    "name": "ipython",
    "version": 3
   },
   "file_extension": ".py",
   "mimetype": "text/x-python",
   "name": "python",
   "nbconvert_exporter": "python",
   "pygments_lexer": "ipython3",
   "version": "3.8.10"
  }
 },
 "nbformat": 4,
 "nbformat_minor": 5
}
