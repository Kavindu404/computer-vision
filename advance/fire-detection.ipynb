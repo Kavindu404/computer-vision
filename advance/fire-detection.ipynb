{
 "cells": [
  {
   "cell_type": "code",
   "execution_count": 129,
   "id": "403bfc52",
   "metadata": {},
   "outputs": [],
   "source": [
    "from fastai.vision.all import *\n",
    "from matplotlib import patches"
   ]
  },
  {
   "cell_type": "code",
   "execution_count": 5,
   "id": "77eb08bc",
   "metadata": {},
   "outputs": [
    {
     "data": {
      "text/html": [
       "\n",
       "<style>\n",
       "    /* Turns off some styling */\n",
       "    progress {\n",
       "        /* gets rid of default border in Firefox and Opera. */\n",
       "        border: none;\n",
       "        /* Needs to be in here for Safari polyfill so background images work as expected. */\n",
       "        background-size: auto;\n",
       "    }\n",
       "    .progress-bar-interrupted, .progress-bar-interrupted::-webkit-progress-bar {\n",
       "        background: #F44336;\n",
       "    }\n",
       "</style>\n"
      ],
      "text/plain": [
       "<IPython.core.display.HTML object>"
      ]
     },
     "metadata": {},
     "output_type": "display_data"
    },
    {
     "data": {
      "text/html": [
       "\n",
       "    <div>\n",
       "      <progress value='4259840' class='' max='4255110' style='width:300px; height:20px; vertical-align: middle;'></progress>\n",
       "      100.11% [4259840/4255110 00:10<00:00]\n",
       "    </div>\n",
       "    "
      ],
      "text/plain": [
       "<IPython.core.display.HTML object>"
      ]
     },
     "metadata": {},
     "output_type": "display_data"
    }
   ],
   "source": [
    "path = untar_data(\"https://github.com/OlafenwaMoses/FireNET/releases/download/v1.0/fire-dataset.zip\")"
   ]
  },
  {
   "cell_type": "code",
   "execution_count": 89,
   "id": "7b3d8f93",
   "metadata": {},
   "outputs": [
    {
     "data": {
      "text/plain": [
       "[Path('/home/kavindu99/.fastai/data/fire-dataset/train'),\n",
       " Path('/home/kavindu99/.fastai/data/fire-dataset/validation')]"
      ]
     },
     "execution_count": 89,
     "metadata": {},
     "output_type": "execute_result"
    }
   ],
   "source": [
    "list(path.iterdir())"
   ]
  },
  {
   "cell_type": "code",
   "execution_count": 6,
   "id": "a8c4a55f",
   "metadata": {},
   "outputs": [
    {
     "data": {
      "text/plain": [
       "(#2) [Path('/home/kavindu99/.fastai/data/fire-dataset/train'),Path('/home/kavindu99/.fastai/data/fire-dataset/validation')]"
      ]
     },
     "execution_count": 6,
     "metadata": {},
     "output_type": "execute_result"
    }
   ],
   "source": [
    "path.ls()"
   ]
  },
  {
   "cell_type": "code",
   "execution_count": 7,
   "id": "1dc60f83",
   "metadata": {},
   "outputs": [],
   "source": [
    "train_path = path/'train'"
   ]
  },
  {
   "cell_type": "code",
   "execution_count": 8,
   "id": "40e1486e",
   "metadata": {},
   "outputs": [
    {
     "data": {
      "text/plain": [
       "(#2) [Path('/home/kavindu99/.fastai/data/fire-dataset/train/annotations'),Path('/home/kavindu99/.fastai/data/fire-dataset/train/images')]"
      ]
     },
     "execution_count": 8,
     "metadata": {},
     "output_type": "execute_result"
    }
   ],
   "source": [
    "train_path.ls()"
   ]
  },
  {
   "cell_type": "code",
   "execution_count": 62,
   "id": "849f702c",
   "metadata": {},
   "outputs": [],
   "source": [
    "train_annotations = train_path/'annotations'\n",
    "train_imgs = train_path/'images'"
   ]
  },
  {
   "cell_type": "code",
   "execution_count": 90,
   "id": "ec8c3c44",
   "metadata": {},
   "outputs": [
    {
     "data": {
      "text/plain": [
       "(#412) [Path('/home/kavindu99/.fastai/data/fire-dataset/train/images/img (83).jpg'),Path('/home/kavindu99/.fastai/data/fire-dataset/train/images/img (113).jpg'),Path('/home/kavindu99/.fastai/data/fire-dataset/train/images/img (38).jpg'),Path('/home/kavindu99/.fastai/data/fire-dataset/train/images/small (70).jpg'),Path('/home/kavindu99/.fastai/data/fire-dataset/train/images/pic (162).jpg'),Path('/home/kavindu99/.fastai/data/fire-dataset/train/images/pic (125).jpg'),Path('/home/kavindu99/.fastai/data/fire-dataset/train/images/img (140).jpg'),Path('/home/kavindu99/.fastai/data/fire-dataset/train/images/pic (43).jpg'),Path('/home/kavindu99/.fastai/data/fire-dataset/train/images/small (94).jpg'),Path('/home/kavindu99/.fastai/data/fire-dataset/train/images/pic (148).jpg')...]"
      ]
     },
     "execution_count": 90,
     "metadata": {},
     "output_type": "execute_result"
    }
   ],
   "source": [
    "train_imgs.ls()"
   ]
  },
  {
   "cell_type": "code",
   "execution_count": 63,
   "id": "90744920",
   "metadata": {},
   "outputs": [
    {
     "data": {
      "text/plain": [
       "(#412) [Path('/home/kavindu99/.fastai/data/fire-dataset/train/annotations/small (123).xml'),Path('/home/kavindu99/.fastai/data/fire-dataset/train/annotations/img (104).xml'),Path('/home/kavindu99/.fastai/data/fire-dataset/train/annotations/small (74).xml'),Path('/home/kavindu99/.fastai/data/fire-dataset/train/annotations/pic (70).xml'),Path('/home/kavindu99/.fastai/data/fire-dataset/train/annotations/img (42).xml'),Path('/home/kavindu99/.fastai/data/fire-dataset/train/annotations/small (96).xml'),Path('/home/kavindu99/.fastai/data/fire-dataset/train/annotations/small (75).xml'),Path('/home/kavindu99/.fastai/data/fire-dataset/train/annotations/small (80).xml'),Path('/home/kavindu99/.fastai/data/fire-dataset/train/annotations/small (137).xml'),Path('/home/kavindu99/.fastai/data/fire-dataset/train/annotations/pic (137).xml')...]"
      ]
     },
     "execution_count": 63,
     "metadata": {},
     "output_type": "execute_result"
    }
   ],
   "source": [
    "train_annotations.ls()"
   ]
  },
  {
   "cell_type": "code",
   "execution_count": 64,
   "id": "acb1db83",
   "metadata": {},
   "outputs": [],
   "source": [
    "import xml.etree.ElementTree as ET"
   ]
  },
  {
   "cell_type": "code",
   "execution_count": 112,
   "id": "b89bdd0a",
   "metadata": {},
   "outputs": [],
   "source": [
    "def get_anns(file_path):\n",
    "    file = open(file_path)\n",
    "    tree = ET.parse(file)\n",
    "    root = tree.getroot()\n",
    "    img = root[1].text\n",
    "    bboxs = [int(root[6][4][1].text), int(root[6][4][0].text), int(root[6][4][3].text), int(root[6][4][2].text)]\n",
    "    return img,bboxs"
   ]
  },
  {
   "cell_type": "code",
   "execution_count": 113,
   "id": "04be372b",
   "metadata": {},
   "outputs": [
    {
     "data": {
      "text/plain": [
       "('small (123).jpg', [30, 91, 119, 129])"
      ]
     },
     "execution_count": 113,
     "metadata": {},
     "output_type": "execute_result"
    }
   ],
   "source": [
    "a, b = get_anns(train_annotations.ls()[0])\n",
    "a, b"
   ]
  },
  {
   "cell_type": "code",
   "execution_count": 114,
   "id": "76979313",
   "metadata": {},
   "outputs": [],
   "source": [
    "imgs, bboxs = [get_anns(path)[0] for path in train_annotations.ls()], [get_anns(path)[1] for path in train_annotations.ls()]"
   ]
  },
  {
   "cell_type": "code",
   "execution_count": 115,
   "id": "9785eacb",
   "metadata": {},
   "outputs": [
    {
     "data": {
      "text/plain": [
       "('small (123).jpg', [30, 91, 119, 129])"
      ]
     },
     "execution_count": 115,
     "metadata": {},
     "output_type": "execute_result"
    }
   ],
   "source": [
    "imgs[0], bboxs[0]"
   ]
  },
  {
   "cell_type": "code",
   "execution_count": 116,
   "id": "c808a790",
   "metadata": {},
   "outputs": [
    {
     "data": {
      "text/plain": [
       "412"
      ]
     },
     "execution_count": 116,
     "metadata": {},
     "output_type": "execute_result"
    }
   ],
   "source": [
    "train_anns = collections.defaultdict(lambda:[])\n",
    "\n",
    "for img, bbox in zip(imgs,bboxs):\n",
    "    train_anns[img].append(bbox)\n",
    "len(train_anns)"
   ]
  },
  {
   "cell_type": "code",
   "execution_count": 117,
   "id": "f2718f28",
   "metadata": {},
   "outputs": [],
   "source": [
    "im = Image.open(train_imgs/imgs[0])"
   ]
  },
  {
   "cell_type": "code",
   "execution_count": 121,
   "id": "322cc90f",
   "metadata": {},
   "outputs": [],
   "source": [
    "def bb_hw(b):\n",
    "    return np.array([b[1], b[0], b[2]-b[0], b[3], b[1]])"
   ]
  },
  {
   "cell_type": "code",
   "execution_count": 118,
   "id": "b4b6bf75",
   "metadata": {},
   "outputs": [],
   "source": [
    "def show_img(img, figsize=None, ax=None):\n",
    "    if not ax: fig, ax = plt.subplots(figsize=figsize)\n",
    "    ax.imshow(img)\n",
    "    ax.get_xaxis().set_visible(False)\n",
    "    ax.get_yaxis().set_visible(False)\n",
    "    return ax"
   ]
  },
  {
   "cell_type": "code",
   "execution_count": 120,
   "id": "2739bebd",
   "metadata": {},
   "outputs": [],
   "source": [
    "def draw_outline(o, lw):\n",
    "    o.set_path_effects([patheffects.Stroke(linewidth=lw, foreground='black'), \n",
    "                        patheffects.Normal()])"
   ]
  },
  {
   "cell_type": "code",
   "execution_count": 130,
   "id": "e58917ab",
   "metadata": {},
   "outputs": [],
   "source": [
    "def draw_rect(ax, b):\n",
    "    patch = ax.add_patch(patches.Rectangle(b[:2], *b[-2:], fill=False, edgecolor='white', lw=2))"
   ]
  },
  {
   "cell_type": "code",
   "execution_count": 131,
   "id": "de70e9da",
   "metadata": {},
   "outputs": [
    {
     "data": {
      "image/png": "[encoded data removed]",
      "text/plain": [
       "<Figure size 432x288 with 1 Axes>"
      ]
     },
     "metadata": {
      "needs_background": "light"
     },
     "output_type": "display_data"
    }
   ],
   "source": [
    "ax = show_img(im)\n",
    "b = bb_hw(bboxs[0])\n",
    "draw_rect(ax, b)"
   ]
  },
  {
   "cell_type": "code",
   "execution_count": 132,
   "id": "30207ca0",
   "metadata": {},
   "outputs": [],
   "source": [
    "def draw_img(im, ann):\n",
    "    ax = show_img(im, figsize=(16,8))\n",
    "    b = bb_hw(ann)\n",
    "    draw_rect(ax, b)"
   ]
  },
  {
   "cell_type": "code",
   "execution_count": 133,
   "id": "9e6c87bf",
   "metadata": {},
   "outputs": [],
   "source": [
    "getters = [lambda o: train_imgs/o, lambda o: train_anns[o][0]]"
   ]
  },
  {
   "cell_type": "code",
   "execution_count": 134,
   "id": "934c8855",
   "metadata": {},
   "outputs": [],
   "source": [
    "item_tfms = [Resize(224, method='squish'),]\n",
    "batch_tfms = [Rotate(), Flip(), Dihedral()]"
   ]
  },
  {
   "cell_type": "code",
   "execution_count": 135,
   "id": "16d642cc",
   "metadata": {},
   "outputs": [],
   "source": [
    "ds = DataBlock(blocks=(ImageBlock, BBoxBlock),\n",
    "                 splitter=RandomSplitter(),\n",
    "                 getters=getters,\n",
    "                 item_tfms=item_tfms,\n",
    "                 batch_tfms=batch_tfms,\n",
    "                 n_inp=1)"
   ]
  },
  {
   "cell_type": "code",
   "execution_count": null,
   "id": "022bb492",
   "metadata": {},
   "outputs": [],
   "source": [
    "dls = ds.dataloaders(imgs, bs = 64)"
   ]
  },
  {
   "cell_type": "code",
   "execution_count": 142,
   "id": "278d5141",
   "metadata": {},
   "outputs": [],
   "source": [
    "head_reg4 = nn.Sequential(Flatten(), nn.Linear(25088, 4))\n",
    "learn = vision_learner(dls,resnet34, custom_head=head_reg4, loss_func=nn.L1Loss(), \n",
    "                       metrics=error_rate)"
   ]
  },
  {
   "cell_type": "code",
   "execution_count": null,
   "id": "ca9c7dc5",
   "metadata": {},
   "outputs": [],
   "source": [
    "learn.summary()"
   ]
  },
  {
   "cell_type": "code",
   "execution_count": null,
   "id": "5409e581",
   "metadata": {},
   "outputs": [],
   "source": [
    "lr_min,lr_steep = learn.lr_find(suggest_funcs=(minimum, steep))"
   ]
  },
  {
   "cell_type": "code",
   "execution_count": null,
   "id": "99ede955",
   "metadata": {},
   "outputs": [],
   "source": []
  }
 ],
 "metadata": {
  "kernelspec": {
   "display_name": "Python 3 (ipykernel)",
   "language": "python",
   "name": "python3"
  },
  "language_info": {
   "codemirror_mode": {
    "name": "ipython",
    "version": 3
   },
   "file_extension": ".py",
   "mimetype": "text/x-python",
   "name": "python",
   "nbconvert_exporter": "python",
   "pygments_lexer": "ipython3",
   "version": "3.8.10"
  }
 },
 "nbformat": 4,
 "nbformat_minor": 5
}
