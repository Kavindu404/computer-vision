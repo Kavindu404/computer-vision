{
  "cells": [
    {
      "cell_type": "code",
      "execution_count": null,
      "metadata": {
        "id": "ZoDxhyvfsS0N",
        "colab": {
          "base_uri": "https://localhost:8080/"
        },
        "outputId": "3ce1cacc-502b-41f2-c18a-47970aadfec0"
      },
      "outputs": [
        {
          "output_type": "stream",
          "name": "stdout",
          "text": [
            "Looking in indexes: https://pypi.org/simple, https://us-python.pkg.dev/colab-wheels/public/simple/\n",
            "Requirement already satisfied: datasets in /usr/local/lib/python3.7/dist-packages (2.5.1)\n",
            "Requirement already satisfied: transformers in /usr/local/lib/python3.7/dist-packages (4.22.2)\n",
            "Requirement already satisfied: evaluate in /usr/local/lib/python3.7/dist-packages (0.2.2)\n",
            "Requirement already satisfied: gradio in /usr/local/lib/python3.7/dist-packages (3.4.0)\n",
            "Requirement already satisfied: huggingface_hub in /usr/local/lib/python3.7/dist-packages (0.10.0)\n",
            "Requirement already satisfied: responses<0.19 in /usr/local/lib/python3.7/dist-packages (from datasets) (0.18.0)\n",
            "Requirement already satisfied: pandas in /usr/local/lib/python3.7/dist-packages (from datasets) (1.3.5)\n",
            "Requirement already satisfied: pyarrow>=6.0.0 in /usr/local/lib/python3.7/dist-packages (from datasets) (6.0.1)\n",
            "Requirement already satisfied: packaging in /usr/local/lib/python3.7/dist-packages (from datasets) (21.3)\n",
            "Requirement already satisfied: importlib-metadata in /usr/local/lib/python3.7/dist-packages (from datasets) (4.12.0)\n",
            "Requirement already satisfied: multiprocess in /usr/local/lib/python3.7/dist-packages (from datasets) (0.70.13)\n",
            "Requirement already satisfied: requests>=2.19.0 in /usr/local/lib/python3.7/dist-packages (from datasets) (2.23.0)\n",
            "Requirement already satisfied: xxhash in /usr/local/lib/python3.7/dist-packages (from datasets) (3.0.0)\n",
            "Requirement already satisfied: tqdm>=4.62.1 in /usr/local/lib/python3.7/dist-packages (from datasets) (4.64.1)\n",
            "Requirement already satisfied: aiohttp in /usr/local/lib/python3.7/dist-packages (from datasets) (3.8.1)\n",
            "Requirement already satisfied: fsspec[http]>=2021.11.1 in /usr/local/lib/python3.7/dist-packages (from datasets) (2022.8.2)\n",
            "Requirement already satisfied: numpy>=1.17 in /usr/local/lib/python3.7/dist-packages (from datasets) (1.21.6)\n",
            "Requirement already satisfied: dill<0.3.6 in /usr/local/lib/python3.7/dist-packages (from datasets) (0.3.5.1)\n",
            "Requirement already satisfied: typing-extensions>=3.7.4.3 in /usr/local/lib/python3.7/dist-packages (from huggingface_hub) (4.1.1)\n",
            "Requirement already satisfied: filelock in /usr/local/lib/python3.7/dist-packages (from huggingface_hub) (3.8.0)\n",
            "Requirement already satisfied: pyyaml>=5.1 in /usr/local/lib/python3.7/dist-packages (from huggingface_hub) (6.0)\n",
            "Requirement already satisfied: async-timeout<5.0,>=4.0.0a3 in /usr/local/lib/python3.7/dist-packages (from aiohttp->datasets) (4.0.2)\n",
            "Requirement already satisfied: frozenlist>=1.1.1 in /usr/local/lib/python3.7/dist-packages (from aiohttp->datasets) (1.3.1)\n",
            "Requirement already satisfied: charset-normalizer<3.0,>=2.0 in /usr/local/lib/python3.7/dist-packages (from aiohttp->datasets) (2.1.1)\n",
            "Requirement already satisfied: attrs>=17.3.0 in /usr/local/lib/python3.7/dist-packages (from aiohttp->datasets) (22.1.0)\n",
            "Requirement already satisfied: multidict<7.0,>=4.5 in /usr/local/lib/python3.7/dist-packages (from aiohttp->datasets) (6.0.2)\n",
            "Requirement already satisfied: aiosignal>=1.1.2 in /usr/local/lib/python3.7/dist-packages (from aiohttp->datasets) (1.2.0)\n",
            "Requirement already satisfied: yarl<2.0,>=1.0 in /usr/local/lib/python3.7/dist-packages (from aiohttp->datasets) (1.8.1)\n",
            "Requirement already satisfied: asynctest==0.13.0 in /usr/local/lib/python3.7/dist-packages (from aiohttp->datasets) (0.13.0)\n",
            "Requirement already satisfied: pyparsing!=3.0.5,>=2.0.2 in /usr/local/lib/python3.7/dist-packages (from packaging->datasets) (3.0.9)\n",
            "Requirement already satisfied: chardet<4,>=3.0.2 in /usr/local/lib/python3.7/dist-packages (from requests>=2.19.0->datasets) (3.0.4)\n",
            "Requirement already satisfied: idna<3,>=2.5 in /usr/local/lib/python3.7/dist-packages (from requests>=2.19.0->datasets) (2.10)\n",
            "Requirement already satisfied: certifi>=2017.4.17 in /usr/local/lib/python3.7/dist-packages (from requests>=2.19.0->datasets) (2022.6.15)\n",
            "Requirement already satisfied: urllib3!=1.25.0,!=1.25.1,<1.26,>=1.21.1 in /usr/local/lib/python3.7/dist-packages (from requests>=2.19.0->datasets) (1.25.11)\n",
            "Requirement already satisfied: regex!=2019.12.17 in /usr/local/lib/python3.7/dist-packages (from transformers) (2022.6.2)\n",
            "Requirement already satisfied: tokenizers!=0.11.3,<0.13,>=0.11.1 in /usr/local/lib/python3.7/dist-packages (from transformers) (0.12.1)\n",
            "Requirement already satisfied: paramiko in /usr/local/lib/python3.7/dist-packages (from gradio) (2.11.0)\n",
            "Requirement already satisfied: uvicorn in /usr/local/lib/python3.7/dist-packages (from gradio) (0.18.3)\n",
            "Requirement already satisfied: websockets in /usr/local/lib/python3.7/dist-packages (from gradio) (10.3)\n",
            "Requirement already satisfied: orjson in /usr/local/lib/python3.7/dist-packages (from gradio) (3.8.0)\n",
            "Requirement already satisfied: markdown-it-py[linkify,plugins] in /usr/local/lib/python3.7/dist-packages (from gradio) (2.1.0)\n",
            "Requirement already satisfied: pillow in /usr/local/lib/python3.7/dist-packages (from gradio) (7.1.2)\n",
            "Requirement already satisfied: fastapi in /usr/local/lib/python3.7/dist-packages (from gradio) (0.85.0)\n",
            "Requirement already satisfied: pycryptodome in /usr/local/lib/python3.7/dist-packages (from gradio) (3.15.0)\n",
            "Requirement already satisfied: h11<0.13,>=0.11 in /usr/local/lib/python3.7/dist-packages (from gradio) (0.12.0)\n",
            "Requirement already satisfied: ffmpy in /usr/local/lib/python3.7/dist-packages (from gradio) (0.3.0)\n",
            "Requirement already satisfied: python-multipart in /usr/local/lib/python3.7/dist-packages (from gradio) (0.0.5)\n",
            "Requirement already satisfied: matplotlib in /usr/local/lib/python3.7/dist-packages (from gradio) (3.2.2)\n",
            "Requirement already satisfied: httpx in /usr/local/lib/python3.7/dist-packages (from gradio) (0.23.0)\n",
            "Requirement already satisfied: pydub in /usr/local/lib/python3.7/dist-packages (from gradio) (0.25.1)\n",
            "Requirement already satisfied: jinja2 in /usr/local/lib/python3.7/dist-packages (from gradio) (2.11.3)\n",
            "Requirement already satisfied: pydantic in /usr/local/lib/python3.7/dist-packages (from gradio) (1.9.2)\n",
            "Requirement already satisfied: starlette==0.20.4 in /usr/local/lib/python3.7/dist-packages (from fastapi->gradio) (0.20.4)\n",
            "Requirement already satisfied: anyio<5,>=3.4.0 in /usr/local/lib/python3.7/dist-packages (from starlette==0.20.4->fastapi->gradio) (3.6.1)\n",
            "Requirement already satisfied: sniffio>=1.1 in /usr/local/lib/python3.7/dist-packages (from anyio<5,>=3.4.0->starlette==0.20.4->fastapi->gradio) (1.3.0)\n",
            "Requirement already satisfied: httpcore<0.16.0,>=0.15.0 in /usr/local/lib/python3.7/dist-packages (from httpx->gradio) (0.15.0)\n",
            "Requirement already satisfied: rfc3986[idna2008]<2,>=1.3 in /usr/local/lib/python3.7/dist-packages (from httpx->gradio) (1.5.0)\n",
            "Requirement already satisfied: zipp>=0.5 in /usr/local/lib/python3.7/dist-packages (from importlib-metadata->datasets) (3.8.1)\n",
            "Requirement already satisfied: MarkupSafe>=0.23 in /usr/local/lib/python3.7/dist-packages (from jinja2->gradio) (2.0.1)\n",
            "Requirement already satisfied: mdurl~=0.1 in /usr/local/lib/python3.7/dist-packages (from markdown-it-py[linkify,plugins]->gradio) (0.1.2)\n",
            "Requirement already satisfied: linkify-it-py~=1.0 in /usr/local/lib/python3.7/dist-packages (from markdown-it-py[linkify,plugins]->gradio) (1.0.3)\n",
            "Requirement already satisfied: mdit-py-plugins in /usr/local/lib/python3.7/dist-packages (from markdown-it-py[linkify,plugins]->gradio) (0.3.1)\n",
            "Requirement already satisfied: uc-micro-py in /usr/local/lib/python3.7/dist-packages (from linkify-it-py~=1.0->markdown-it-py[linkify,plugins]->gradio) (1.0.1)\n",
            "Requirement already satisfied: python-dateutil>=2.1 in /usr/local/lib/python3.7/dist-packages (from matplotlib->gradio) (2.8.2)\n",
            "Requirement already satisfied: kiwisolver>=1.0.1 in /usr/local/lib/python3.7/dist-packages (from matplotlib->gradio) (1.4.4)\n",
            "Requirement already satisfied: cycler>=0.10 in /usr/local/lib/python3.7/dist-packages (from matplotlib->gradio) (0.11.0)\n",
            "Requirement already satisfied: six>=1.5 in /usr/local/lib/python3.7/dist-packages (from python-dateutil>=2.1->matplotlib->gradio) (1.15.0)\n",
            "Requirement already satisfied: pytz>=2017.3 in /usr/local/lib/python3.7/dist-packages (from pandas->datasets) (2022.2.1)\n",
            "Requirement already satisfied: cryptography>=2.5 in /usr/local/lib/python3.7/dist-packages (from paramiko->gradio) (38.0.1)\n",
            "Requirement already satisfied: bcrypt>=3.1.3 in /usr/local/lib/python3.7/dist-packages (from paramiko->gradio) (4.0.0)\n",
            "Requirement already satisfied: pynacl>=1.0.1 in /usr/local/lib/python3.7/dist-packages (from paramiko->gradio) (1.5.0)\n",
            "Requirement already satisfied: cffi>=1.12 in /usr/local/lib/python3.7/dist-packages (from cryptography>=2.5->paramiko->gradio) (1.15.1)\n",
            "Requirement already satisfied: pycparser in /usr/local/lib/python3.7/dist-packages (from cffi>=1.12->cryptography>=2.5->paramiko->gradio) (2.21)\n",
            "Requirement already satisfied: click>=7.0 in /usr/local/lib/python3.7/dist-packages (from uvicorn->gradio) (7.1.2)\n"
          ]
        }
      ],
      "source": [
        "!pip install datasets transformers evaluate gradio huggingface_hub"
      ]
    },
    {
      "cell_type": "code",
      "source": [
        "from huggingface_hub import notebook_login"
      ],
      "metadata": {
        "id": "qdp3asvm86kN"
      },
      "execution_count": null,
      "outputs": []
    },
    {
      "cell_type": "code",
      "source": [
        "notebook_login()"
      ],
      "metadata": {
        "id": "e7yZ1Q__85v0",
        "colab": {
          "base_uri": "https://localhost:8080/",
          "height": 299,
          "referenced_widgets": [
            "5b6f08f4f0074ec997c335865bf98f90",
            "3a576dbd73234f858750030032b3158d",
            "df63122696ae45558b00bc3950d5099b",
            "b6020fe8582b45b6842deedee47eb145",
            "b9fd972741ce4d46afaa07f5402f2d9f",
            "f66c06adb8ef4333bfcf2e198584ca76",
            "c65dca51021a42c298d1cf5ffaaae515",
            "dbf8a43e8aaf4bab9ad0f3378416087e",
            "bff694ed8c1e4bd687abc10e4193e13a",
            "e39926caf8f04006b47ea80dba5a92e1",
            "4ccb9529cf3743fd81193636f4dc929e",
            "63e5a5fb46714de7a64943156ad33aed",
            "a88c154b75424811be549558a9d85e2c",
            "970c9212855e46a1b3b87ec18cf52a03"
          ]
        },
        "outputId": "6769ed92-160f-4697-fcc7-98559f4e1331"
      },
      "execution_count": null,
      "outputs": [
        {
          "output_type": "stream",
          "name": "stdout",
          "text": [
            "Login successful\n",
            "Your token has been saved to /root/.huggingface/token\n"
          ]
        }
      ]
    },
    {
      "cell_type": "markdown",
      "metadata": {
        "id": "5qks6gJhucIC"
      },
      "source": [
        "# Loading a Dataset"
      ]
    },
    {
      "cell_type": "code",
      "execution_count": null,
      "metadata": {
        "id": "6RtYcR-Dx--o",
        "colab": {
          "base_uri": "https://localhost:8080/"
        },
        "outputId": "6342f52d-d371-4642-cbf1-548f85422115"
      },
      "outputs": [
        {
          "output_type": "stream",
          "name": "stderr",
          "text": [
            "/usr/local/lib/python3.7/dist-packages/huggingface_hub/utils/_deprecation.py:97: FutureWarning: Deprecated argument(s) used in 'dataset_info': token. Will not be supported from version '0.12'.\n",
            "  warnings.warn(message, FutureWarning)\n",
            "WARNING:datasets.builder:Using custom data configuration segments--sidewalk-semantic-2-007b1ee78ca1e890\n"
          ]
        },
        {
          "output_type": "execute_result",
          "data": {
            "text/plain": [
              "('',\n",
              " {'pixel_values': Image(decode=True, id=None),\n",
              "  'label': Image(decode=True, id=None)})"
            ]
          },
          "metadata": {},
          "execution_count": 4
        }
      ],
      "source": [
        "import datasets\n",
        "\n",
        "ds_builder = datasets.load_dataset_builder('segments/sidewalk-semantic')\n",
        "ds_builder.info.description, ds_builder.info.features"
      ]
    },
    {
      "cell_type": "code",
      "execution_count": null,
      "metadata": {
        "id": "mRY7Xpmp_v7R",
        "colab": {
          "base_uri": "https://localhost:8080/",
          "height": 868
        },
        "outputId": "71d656a4-1a05-49d2-9595-7d2dc31f494a"
      },
      "outputs": [
        {
          "output_type": "stream",
          "name": "stderr",
          "text": [
            "/usr/local/lib/python3.7/dist-packages/huggingface_hub/utils/_deprecation.py:97: FutureWarning: Deprecated argument(s) used in 'dataset_info': token. Will not be supported from version '0.12'.\n",
            "  warnings.warn(message, FutureWarning)\n",
            "WARNING:datasets.builder:Using custom data configuration segments--sidewalk-semantic-2-007b1ee78ca1e890\n",
            "WARNING:datasets.builder:Found cached dataset parquet (/root/.cache/huggingface/datasets/segments___parquet/segments--sidewalk-semantic-2-007b1ee78ca1e890/0.0.0/2a3b91fbd88a2c90d1dbbb32b460cf621d31bd5b05b934492fdef7d8d6f236ec)\n"
          ]
        },
        {
          "output_type": "stream",
          "name": "stdout",
          "text": [
            "Dataset({\n",
            "    features: ['pixel_values', 'label'],\n",
            "    num_rows: 1000\n",
            "})\n",
            "[ 0  1  2  3  4  5  6  7  8  9 10 11 12 13 14 15 16 17 18 19 20 21 22 23\n",
            " 24 25 26 27 28 29 30 31 32 33 34]\n",
            "35\n"
          ]
        },
        {
          "output_type": "display_data",
          "data": {
            "text/plain": [
              "<PIL.Image.Image image mode=RGB size=64x64 at 0x7FC473919890>"
            ],
            "image/png": "[encoded data removed]"
          },
          "metadata": {}
        },
        {
          "output_type": "display_data",
          "data": {
            "text/plain": [
              "<PIL.Image.Image image mode=RGB size=64x64 at 0x7FC4739F0C50>"
            ],
            "image/png": "[encoded data removed]"
          },
          "metadata": {}
        },
        {
          "output_type": "display_data",
          "data": {
            "text/plain": [
              "<PIL.Image.Image image mode=RGB size=64x64 at 0x7FC4739F0C50>"
            ],
            "image/png": "[encoded data removed]"
          },
          "metadata": {}
        },
        {
          "output_type": "display_data",
          "data": {
            "text/plain": [
              "<PIL.Image.Image image mode=RGB size=64x64 at 0x7FC4739F0C50>"
            ],
            "image/png": "[encoded data removed]"
          },
          "metadata": {}
        },
        {
          "output_type": "display_data",
          "data": {
            "text/plain": [
              "<PIL.Image.Image image mode=RGB size=64x64 at 0x7FC4D5C1AAD0>"
            ],
            "image/png": "[encoded data removed]"
          },
          "metadata": {}
        },
        {
          "output_type": "display_data",
          "data": {
            "text/plain": [
              "<PIL.Image.Image image mode=RGB size=64x64 at 0x7FC4D5C1AAD0>"
            ],
            "image/png": "[encoded data removed]"
          },
          "metadata": {}
        },
        {
          "output_type": "display_data",
          "data": {
            "text/plain": [
              "<PIL.Image.Image image mode=RGB size=64x64 at 0x7FC45EEE5610>"
            ],
            "image/png": "[encoded data removed]"
          },
          "metadata": {}
        },
        {
          "output_type": "display_data",
          "data": {
            "text/plain": [
              "<PIL.Image.Image image mode=RGB size=64x64 at 0x7FC45EEE5610>"
            ],
            "image/png": "[encoded data removed]"
          },
          "metadata": {}
        },
        {
          "output_type": "display_data",
          "data": {
            "text/plain": [
              "<PIL.Image.Image image mode=RGB size=64x64 at 0x7FC45EEE5610>"
            ],
            "image/png": "[encoded data removed]"
          },
          "metadata": {}
        },
        {
          "output_type": "display_data",
          "data": {
            "text/plain": [
              "<PIL.Image.Image image mode=RGB size=64x64 at 0x7FC473939910>"
            ],
            "image/png": "[encoded data removed]"
          },
          "metadata": {}
        }
      ],
      "source": [
        "import numpy as np\n",
        "dataset = datasets.load_dataset('segments/sidewalk-semantic', split='train')\n",
        "print(dataset)\n",
        "\n",
        "num_classes = np.unique(dataset[0]['label'])\n",
        "for row in dataset:\n",
        "  local_classes = np.unique(row['label'])\n",
        "  num_classes = np.unique(np.concatenate((num_classes,local_classes)))\n",
        "print(num_classes)\n",
        "print(num_classes.size)\n",
        "for i in range(10):\n",
        "  idx = np.random.randint(0,1000)\n",
        "  display(dataset[idx]['pixel_values'].resize((64,64)))"
      ]
    },
    {
      "cell_type": "markdown",
      "metadata": {
        "id": "C7R8uW2Ho-p-"
      },
      "source": [
        "* **Simplifying the Training Dataset**"
      ]
    },
    {
      "cell_type": "code",
      "execution_count": null,
      "metadata": {
        "id": "teZ3FtgD2KEg"
      },
      "outputs": [],
      "source": [
        "import numpy as np\n",
        "\n",
        "num_classes = 5\n",
        "\n",
        "def transform(sample):\n",
        "    sample[\"pixel_values\"] = sample[\"pixel_values\"].convert(\"RGB\").resize((64,64))\n",
        "    sample[\"label\"] = sample[\"label\"].resize((64,64), Image.NEAREST)\n",
        "    collapse_categories = {**{i: 0 for i in range(1, 8)}, \n",
        "                            **{i: 1 for i in range(8, 10)}, \n",
        "                            **{i: 2 for i in range(10, 18)}, \n",
        "                            **{i: 3 for i in range(18, 28)}}\n",
        "    sample[\"label\"] = np.vectorize(lambda x: collapse_categories.get(x, 4))(np.array(sample[\"label\"]))\n",
        "    return sample\n",
        "    \n",
        "dataset.set_transform(transform)"
      ]
    },
    {
      "cell_type": "code",
      "execution_count": null,
      "metadata": {
        "id": "zjMamZfU8K-b",
        "colab": {
          "base_uri": "https://localhost:8080/"
        },
        "outputId": "befbd503-8444-4e9f-bd97-f6e7ad7e72bf"
      },
      "outputs": [
        {
          "output_type": "stream",
          "name": "stdout",
          "text": [
            "Dataset({\n",
            "    features: ['pixel_values', 'label'],\n",
            "    num_rows: 990\n",
            "})\n",
            "Dataset({\n",
            "    features: ['pixel_values', 'label'],\n",
            "    num_rows: 10\n",
            "})\n"
          ]
        },
        {
          "output_type": "execute_result",
          "data": {
            "text/plain": [
              "(None, None)"
            ]
          },
          "metadata": {},
          "execution_count": 12
        }
      ],
      "source": [
        "dataset = dataset.train_test_split(test_size=0.01)\n",
        "train_ds = dataset[\"train\"]\n",
        "test_ds = dataset[\"test\"]\n",
        "print(train_ds), print(test_ds)"
      ]
    },
    {
      "cell_type": "markdown",
      "metadata": {
        "id": "cQ0aT2Lkxu16"
      },
      "source": [
        "# Loading a Pretrained Model"
      ]
    },
    {
      "cell_type": "code",
      "execution_count": null,
      "metadata": {
        "id": "NKUBueAa07fl",
        "collapsed": true,
        "colab": {
          "base_uri": "https://localhost:8080/",
          "height": 104,
          "referenced_widgets": [
            "50a5c720bafc489f82daf46c102cddd3",
            "2abaa594dc334a0faa472e86e6df9df3",
            "ce4baf36db3943b1aa95bfdaa6fc8ca9",
            "f28526582d044f84bd62d044719aa7e6",
            "131135190f1945aaa5afbfbcc83270b9",
            "9f3bd0486c154549a616474e634d9534",
            "fdc274f0c2634dc6912df39a0602b1ee",
            "e4a3c9b0f51c4d09840b075d103902e9",
            "21054e80c575487cbb77a4daf0f1babd",
            "1230db6ad88f44fa8ffd4d04cc191c96",
            "54b403dd57304e7e9c6295629824c74c"
          ]
        },
        "outputId": "232dc02d-91d5-4397-ef86-92551be378dc"
      },
      "outputs": [
        {
          "output_type": "stream",
          "name": "stderr",
          "text": [
            "The cache for model files in Transformers v4.22.0 has been updated. Migrating your old cache. This is a one-time only operation. You can interrupt this and resume the migration later on by calling `transformers.utils.move_cache()`.\n"
          ]
        },
        {
          "output_type": "stream",
          "name": "stdout",
          "text": [
            "Moving 0 files to the new cache system\n"
          ]
        },
        {
          "output_type": "display_data",
          "data": {
            "text/plain": [
              "0it [00:00, ?it/s]"
            ],
            "application/vnd.jupyter.widget-view+json": {
              "version_major": 2,
              "version_minor": 0,
              "model_id": "50a5c720bafc489f82daf46c102cddd3"
            }
          },
          "metadata": {}
        }
      ],
      "source": [
        "from transformers import AutoFeatureExtractor, SegformerForSemanticSegmentation\n",
        "import torch\n",
        "\n",
        "device = torch.device('cuda' if torch.cuda.is_available() else 'cpu')\n",
        "\n",
        "model = SegformerForSemanticSegmentation.from_pretrained(\"nvidia/segformer-b0-finetuned-ade-512-512\")\n",
        "\n",
        "model.eval()\n",
        "model.to(device);"
      ]
    },
    {
      "cell_type": "code",
      "execution_count": null,
      "metadata": {
        "id": "w37L3EPu3VxT"
      },
      "outputs": [],
      "source": [
        "extractor = AutoFeatureExtractor.from_pretrained(\"nvidia/segformer-b0-finetuned-ade-512-512\")"
      ]
    },
    {
      "cell_type": "markdown",
      "metadata": {
        "id": "EnbteoVGzZmw"
      },
      "source": [
        "# Fine-tuning the Model on the Dataset"
      ]
    },
    {
      "cell_type": "code",
      "execution_count": null,
      "metadata": {
        "id": "602EirtR5Q45"
      },
      "outputs": [],
      "source": [
        "def transform(example_batch):\n",
        "    inputs = extractor(example_batch['pixel_values'],example_batch['label'])\n",
        "    return inputs\n",
        "\n",
        "train_ds.set_transform(transform)\n",
        "test_ds.set_transform(transform)"
      ]
    },
    {
      "cell_type": "code",
      "source": [
        "train_subset_ds = train_ds.select(range(10))\n",
        "train_subset_ds.set_transform(transform)"
      ],
      "metadata": {
        "id": "cWsICdnOnAix"
      },
      "execution_count": null,
      "outputs": []
    },
    {
      "cell_type": "code",
      "source": [
        "from transformers import TrainingArguments\n",
        "from transformers import Trainer\n",
        "\n",
        "lr = 3e-4\n",
        "epochs = 10\n",
        "batch_size = 2\n",
        "\n",
        "training_args = TrainingArguments(\n",
        "    \"overfit-segmentation-model\",\n",
        "    learning_rate=lr,\n",
        "    num_train_epochs=epochs,\n",
        "    per_device_train_batch_size=batch_size,\n",
        "    per_device_eval_batch_size=batch_size,\n",
        "    evaluation_strategy=\"steps\",\n",
        "    save_steps=20,\n",
        "    eval_steps=5,\n",
        "    logging_steps=1,\n",
        ")\n",
        "\n",
        "\n",
        "trainer = Trainer(\n",
        "    model=model,\n",
        "    args=training_args,\n",
        "    train_dataset=train_subset_ds,\n",
        "    eval_dataset=test_ds,\n",
        ")\n",
        "\n",
        "trainer.train()"
      ],
      "metadata": {
        "id": "hb0xJGTZlLL3",
        "colab": {
          "base_uri": "https://localhost:8080/",
          "height": 1000
        },
        "outputId": "a3c82d16-4e2e-419a-9178-cd1111f127fe"
      },
      "execution_count": null,
      "outputs": [
        {
          "output_type": "stream",
          "name": "stderr",
          "text": [
            "PyTorch: setting up devices\n",
            "The default value for the training argument `--report_to` will change in v5 (from all installed integrations to none). In v5, you will need to use `--report_to all` to get the same behavior as now. You should start updating your code and make this info disappear :-).\n",
            "/usr/local/lib/python3.7/dist-packages/transformers/optimization.py:310: FutureWarning: This implementation of AdamW is deprecated and will be removed in a future version. Use the PyTorch implementation torch.optim.AdamW instead, or set `no_deprecation_warning=True` to disable this warning\n",
            "  FutureWarning,\n",
            "***** Running training *****\n",
            "  Num examples = 10\n",
            "  Num Epochs = 10\n",
            "  Instantaneous batch size per device = 2\n",
            "  Total train batch size (w. parallel, distributed & accumulation) = 2\n",
            "  Gradient Accumulation steps = 1\n",
            "  Total optimization steps = 50\n"
          ]
        },
        {
          "output_type": "display_data",
          "data": {
            "text/plain": [
              "<IPython.core.display.HTML object>"
            ],
            "text/html": [
              "\n",
              "    <div>\n",
              "      \n",
              "      <progress value='50' max='50' style='width:300px; height:20px; vertical-align: middle;'></progress>\n",
              "      [50/50 11:51, Epoch 10/10]\n",
              "    </div>\n",
              "    <table border=\"1\" class=\"dataframe\">\n",
              "  <thead>\n",
              " <tr style=\"text-align: left;\">\n",
              "      <th>Step</th>\n",
              "      <th>Training Loss</th>\n",
              "      <th>Validation Loss</th>\n",
              "    </tr>\n",
              "  </thead>\n",
              "  <tbody>\n",
              "    <tr>\n",
              "      <td>5</td>\n",
              "      <td>1.300000</td>\n",
              "      <td>1.232091</td>\n",
              "    </tr>\n",
              "    <tr>\n",
              "      <td>10</td>\n",
              "      <td>0.376700</td>\n",
              "      <td>1.236414</td>\n",
              "    </tr>\n",
              "    <tr>\n",
              "      <td>15</td>\n",
              "      <td>0.313500</td>\n",
              "      <td>1.051661</td>\n",
              "    </tr>\n",
              "    <tr>\n",
              "      <td>20</td>\n",
              "      <td>0.343500</td>\n",
              "      <td>0.987048</td>\n",
              "    </tr>\n",
              "    <tr>\n",
              "      <td>25</td>\n",
              "      <td>0.231200</td>\n",
              "      <td>1.184848</td>\n",
              "    </tr>\n",
              "    <tr>\n",
              "      <td>30</td>\n",
              "      <td>0.284500</td>\n",
              "      <td>1.193462</td>\n",
              "    </tr>\n",
              "    <tr>\n",
              "      <td>35</td>\n",
              "      <td>0.356900</td>\n",
              "      <td>1.109213</td>\n",
              "    </tr>\n",
              "    <tr>\n",
              "      <td>40</td>\n",
              "      <td>0.252600</td>\n",
              "      <td>1.095285</td>\n",
              "    </tr>\n",
              "    <tr>\n",
              "      <td>45</td>\n",
              "      <td>0.270700</td>\n",
              "      <td>1.073521</td>\n",
              "    </tr>\n",
              "    <tr>\n",
              "      <td>50</td>\n",
              "      <td>0.220300</td>\n",
              "      <td>1.060958</td>\n",
              "    </tr>\n",
              "  </tbody>\n",
              "</table><p>"
            ]
          },
          "metadata": {}
        },
        {
          "output_type": "stream",
          "name": "stderr",
          "text": [
            "***** Running Evaluation *****\n",
            "  Num examples = 10\n",
            "  Batch size = 2\n",
            "***** Running Evaluation *****\n",
            "  Num examples = 10\n",
            "  Batch size = 2\n",
            "***** Running Evaluation *****\n",
            "  Num examples = 10\n",
            "  Batch size = 2\n",
            "***** Running Evaluation *****\n",
            "  Num examples = 10\n",
            "  Batch size = 2\n",
            "Saving model checkpoint to overfit-segmentation-model/checkpoint-20\n",
            "Configuration saved in overfit-segmentation-model/checkpoint-20/config.json\n",
            "Model weights saved in overfit-segmentation-model/checkpoint-20/pytorch_model.bin\n",
            "***** Running Evaluation *****\n",
            "  Num examples = 10\n",
            "  Batch size = 2\n",
            "***** Running Evaluation *****\n",
            "  Num examples = 10\n",
            "  Batch size = 2\n",
            "***** Running Evaluation *****\n",
            "  Num examples = 10\n",
            "  Batch size = 2\n",
            "***** Running Evaluation *****\n",
            "  Num examples = 10\n",
            "  Batch size = 2\n",
            "Saving model checkpoint to overfit-segmentation-model/checkpoint-40\n",
            "Configuration saved in overfit-segmentation-model/checkpoint-40/config.json\n",
            "Model weights saved in overfit-segmentation-model/checkpoint-40/pytorch_model.bin\n",
            "***** Running Evaluation *****\n",
            "  Num examples = 10\n",
            "  Batch size = 2\n",
            "***** Running Evaluation *****\n",
            "  Num examples = 10\n",
            "  Batch size = 2\n",
            "\n",
            "\n",
            "Training completed. Do not forget to share your model on huggingface.co/models =)\n",
            "\n",
            "\n"
          ]
        },
        {
          "output_type": "execute_result",
          "data": {
            "text/plain": [
              "TrainOutput(global_step=50, training_loss=0.36993438184261324, metrics={'train_runtime': 721.2844, 'train_samples_per_second': 0.139, 'train_steps_per_second': 0.069, 'total_flos': 1770743188684800.0, 'train_loss': 0.36993438184261324, 'epoch': 10.0})"
            ]
          },
          "metadata": {},
          "execution_count": 18
        }
      ]
    },
    {
      "cell_type": "code",
      "source": [
        "print(trainer.state.log_history[0])\n",
        "print(trainer.state.log_history[1])\n",
        "print(len(trainer.state.log_history))\n",
        "print(trainer.state.log_history)"
      ],
      "metadata": {
        "id": "lXURLvNZ2oNu",
        "colab": {
          "base_uri": "https://localhost:8080/"
        },
        "outputId": "5a7f9c1d-83e9-44b1-81fd-38b403068bb6"
      },
      "execution_count": null,
      "outputs": [
        {
          "output_type": "stream",
          "name": "stdout",
          "text": [
            "{'loss': 9.6611, 'learning_rate': 0.000294, 'epoch': 0.2, 'step': 1}\n",
            "{'loss': 7.2835, 'learning_rate': 0.00028799999999999995, 'epoch': 0.4, 'step': 2}\n",
            "61\n",
            "[{'loss': 9.6611, 'learning_rate': 0.000294, 'epoch': 0.2, 'step': 1}, {'loss': 7.2835, 'learning_rate': 0.00028799999999999995, 'epoch': 0.4, 'step': 2}, {'loss': 5.1815, 'learning_rate': 0.00028199999999999997, 'epoch': 0.6, 'step': 3}, {'loss': 5.5787, 'learning_rate': 0.000276, 'epoch': 0.8, 'step': 4}, {'loss': 4.1689, 'learning_rate': 0.00027, 'epoch': 1.0, 'step': 5}, {'eval_loss': 4.952329158782959, 'eval_runtime': 1.3739, 'eval_samples_per_second': 7.279, 'eval_steps_per_second': 3.639, 'epoch': 1.0, 'step': 5}, {'loss': 3.4253, 'learning_rate': 0.00026399999999999997, 'epoch': 1.2, 'step': 6}, {'loss': 3.8751, 'learning_rate': 0.000258, 'epoch': 1.4, 'step': 7}, {'loss': 2.9188, 'learning_rate': 0.00025199999999999995, 'epoch': 1.6, 'step': 8}, {'loss': 1.6514, 'learning_rate': 0.00024599999999999996, 'epoch': 1.8, 'step': 9}, {'loss': 1.8928, 'learning_rate': 0.00023999999999999998, 'epoch': 2.0, 'step': 10}, {'eval_loss': 5.217612266540527, 'eval_runtime': 1.8616, 'eval_samples_per_second': 5.372, 'eval_steps_per_second': 2.686, 'epoch': 2.0, 'step': 10}, {'loss': 2.5417, 'learning_rate': 0.000234, 'epoch': 2.2, 'step': 11}, {'loss': 2.4436, 'learning_rate': 0.00022799999999999999, 'epoch': 2.4, 'step': 12}, {'loss': 1.1753, 'learning_rate': 0.00022199999999999998, 'epoch': 2.6, 'step': 13}, {'loss': 1.723, 'learning_rate': 0.00021599999999999996, 'epoch': 2.8, 'step': 14}, {'loss': 2.7236, 'learning_rate': 0.00020999999999999998, 'epoch': 3.0, 'step': 15}, {'eval_loss': 3.909851551055908, 'eval_runtime': 1.3487, 'eval_samples_per_second': 7.415, 'eval_steps_per_second': 3.707, 'epoch': 3.0, 'step': 15}, {'loss': 1.5346, 'learning_rate': 0.000204, 'epoch': 3.2, 'step': 16}, {'loss': 0.9231, 'learning_rate': 0.000198, 'epoch': 3.4, 'step': 17}, {'loss': 1.5919, 'learning_rate': 0.00019199999999999998, 'epoch': 3.6, 'step': 18}, {'loss': 1.8035, 'learning_rate': 0.000186, 'epoch': 3.8, 'step': 19}, {'loss': 1.1638, 'learning_rate': 0.00017999999999999998, 'epoch': 4.0, 'step': 20}, {'eval_loss': 3.7500720024108887, 'eval_runtime': 1.3464, 'eval_samples_per_second': 7.427, 'eval_steps_per_second': 3.714, 'epoch': 4.0, 'step': 20}, {'loss': 0.8074, 'learning_rate': 0.00017399999999999997, 'epoch': 4.2, 'step': 21}, {'loss': 0.9545, 'learning_rate': 0.000168, 'epoch': 4.4, 'step': 22}, {'loss': 0.8355, 'learning_rate': 0.000162, 'epoch': 4.6, 'step': 23}, {'loss': 1.663, 'learning_rate': 0.000156, 'epoch': 4.8, 'step': 24}, {'loss': 1.4332, 'learning_rate': 0.00015, 'epoch': 5.0, 'step': 25}, {'eval_loss': 3.680245876312256, 'eval_runtime': 1.3754, 'eval_samples_per_second': 7.271, 'eval_steps_per_second': 3.635, 'epoch': 5.0, 'step': 25}, {'loss': 1.2952, 'learning_rate': 0.00014399999999999998, 'epoch': 5.2, 'step': 26}, {'loss': 0.7684, 'learning_rate': 0.000138, 'epoch': 5.4, 'step': 27}, {'loss': 0.9721, 'learning_rate': 0.00013199999999999998, 'epoch': 5.6, 'step': 28}, {'loss': 0.5681, 'learning_rate': 0.00012599999999999997, 'epoch': 5.8, 'step': 29}, {'loss': 1.1888, 'learning_rate': 0.00011999999999999999, 'epoch': 6.0, 'step': 30}, {'eval_loss': 3.728447675704956, 'eval_runtime': 1.3806, 'eval_samples_per_second': 7.243, 'eval_steps_per_second': 3.622, 'epoch': 6.0, 'step': 30}, {'loss': 0.6552, 'learning_rate': 0.00011399999999999999, 'epoch': 6.2, 'step': 31}, {'loss': 1.0103, 'learning_rate': 0.00010799999999999998, 'epoch': 6.4, 'step': 32}, {'loss': 0.5388, 'learning_rate': 0.000102, 'epoch': 6.6, 'step': 33}, {'loss': 0.6703, 'learning_rate': 9.599999999999999e-05, 'epoch': 6.8, 'step': 34}, {'loss': 0.7037, 'learning_rate': 8.999999999999999e-05, 'epoch': 7.0, 'step': 35}, {'eval_loss': 3.610501527786255, 'eval_runtime': 1.3619, 'eval_samples_per_second': 7.343, 'eval_steps_per_second': 3.671, 'epoch': 7.0, 'step': 35}, {'loss': 0.6925, 'learning_rate': 8.4e-05, 'epoch': 7.2, 'step': 36}, {'loss': 0.688, 'learning_rate': 7.8e-05, 'epoch': 7.4, 'step': 37}, {'loss': 0.7257, 'learning_rate': 7.199999999999999e-05, 'epoch': 7.6, 'step': 38}, {'loss': 0.69, 'learning_rate': 6.599999999999999e-05, 'epoch': 7.8, 'step': 39}, {'loss': 0.8195, 'learning_rate': 5.9999999999999995e-05, 'epoch': 8.0, 'step': 40}, {'eval_loss': 3.418505907058716, 'eval_runtime': 1.3978, 'eval_samples_per_second': 7.154, 'eval_steps_per_second': 3.577, 'epoch': 8.0, 'step': 40}, {'loss': 1.0457, 'learning_rate': 5.399999999999999e-05, 'epoch': 8.2, 'step': 41}, {'loss': 1.0436, 'learning_rate': 4.7999999999999994e-05, 'epoch': 8.4, 'step': 42}, {'loss': 0.6088, 'learning_rate': 4.2e-05, 'epoch': 8.6, 'step': 43}, {'loss': 0.6731, 'learning_rate': 3.5999999999999994e-05, 'epoch': 8.8, 'step': 44}, {'loss': 0.7508, 'learning_rate': 2.9999999999999997e-05, 'epoch': 9.0, 'step': 45}, {'eval_loss': 3.560514450073242, 'eval_runtime': 1.402, 'eval_samples_per_second': 7.133, 'eval_steps_per_second': 3.566, 'epoch': 9.0, 'step': 45}, {'loss': 0.8472, 'learning_rate': 2.3999999999999997e-05, 'epoch': 9.2, 'step': 46}, {'loss': 0.5876, 'learning_rate': 1.7999999999999997e-05, 'epoch': 9.4, 'step': 47}, {'loss': 0.6504, 'learning_rate': 1.1999999999999999e-05, 'epoch': 9.6, 'step': 48}, {'loss': 0.7977, 'learning_rate': 5.999999999999999e-06, 'epoch': 9.8, 'step': 49}, {'loss': 0.5024, 'learning_rate': 0.0, 'epoch': 10.0, 'step': 50}, {'eval_loss': 3.6026692390441895, 'eval_runtime': 1.3499, 'eval_samples_per_second': 7.408, 'eval_steps_per_second': 3.704, 'epoch': 10.0, 'step': 50}, {'train_runtime': 44.4627, 'train_samples_per_second': 2.249, 'train_steps_per_second': 1.125, 'total_flos': 1770743188684800.0, 'train_loss': 1.7689730143547058, 'epoch': 10.0, 'step': 50}]\n"
          ]
        }
      ]
    },
    {
      "cell_type": "markdown",
      "source": [
        "Let's try to plot using only matplotlib for fun"
      ],
      "metadata": {
        "id": "7lDiMO_brfNA"
      }
    },
    {
      "cell_type": "code",
      "source": [
        "import matplotlib.pyplot as plt\n",
        "loss =[]\n",
        "eval_loss = []\n",
        "epochs = []\n",
        "for i in range(1, 11):\n",
        "  loss.append([d['loss'] for d in trainer.state.log_history if (d['epoch']==float(i) and ('loss' in d))])\n",
        "  eval_loss.append([d['eval_loss'] for d in trainer.state.log_history if (d['epoch']==float(i)and ('eval_loss' in d))])\n",
        "loss, eval_loss"
      ],
      "metadata": {
        "colab": {
          "base_uri": "https://localhost:8080/"
        },
        "id": "OWF2GtWUvKQ2",
        "outputId": "beb9612e-f1a7-4637-91d7-83692f367e22"
      },
      "execution_count": null,
      "outputs": [
        {
          "output_type": "execute_result",
          "data": {
            "text/plain": [
              "([[4.1689],\n",
              "  [1.8928],\n",
              "  [2.7236],\n",
              "  [1.1638],\n",
              "  [1.4332],\n",
              "  [1.1888],\n",
              "  [0.7037],\n",
              "  [0.8195],\n",
              "  [0.7508],\n",
              "  [0.5024]],\n",
              " [[4.952329158782959],\n",
              "  [5.217612266540527],\n",
              "  [3.909851551055908],\n",
              "  [3.7500720024108887],\n",
              "  [3.680245876312256],\n",
              "  [3.728447675704956],\n",
              "  [3.610501527786255],\n",
              "  [3.418505907058716],\n",
              "  [3.560514450073242],\n",
              "  [3.6026692390441895]])"
            ]
          },
          "metadata": {},
          "execution_count": 34
        }
      ]
    },
    {
      "cell_type": "code",
      "source": [
        "plt.plot(range(10), loss, label = 'training_loss')\n",
        "plt.plot(range(10), eval_loss, label = 'evaluation_loss')\n",
        "plt.xlabel('epochs')\n",
        "plt.ylabel('loss')\n",
        "plt.legend()\n",
        "plt.plot()"
      ],
      "metadata": {
        "colab": {
          "base_uri": "https://localhost:8080/",
          "height": 296
        },
        "id": "AXpOn93AybeK",
        "outputId": "6fe824da-fdc6-459d-e3b4-b0abd07c473f"
      },
      "execution_count": null,
      "outputs": [
        {
          "output_type": "execute_result",
          "data": {
            "text/plain": [
              "[]"
            ]
          },
          "metadata": {},
          "execution_count": 37
        },
        {
          "output_type": "display_data",
          "data": {
            "text/plain": [
              "<Figure size 432x288 with 1 Axes>"
            ],
            "image/png": "[encoded data removed]"
          },
          "metadata": {
            "needs_background": "light"
          }
        }
      ]
    },
    {
      "cell_type": "code",
      "execution_count": null,
      "metadata": {
        "id": "drhPTlyqi7mO"
      },
      "outputs": [],
      "source": [
        "import numpy as np\n",
        "import evaluate\n",
        "from torch import nn\n",
        "\n",
        "metric = evaluate.load('mean_iou')"
      ]
    },
    {
      "cell_type": "code",
      "execution_count": null,
      "metadata": {
        "id": "P_XkpQAWXMM7"
      },
      "outputs": [],
      "source": [
        "def compute_metrics(eval_pred):\n",
        "    with torch.no_grad():\n",
        "        logits, labels = eval_pred\n",
        "        logits_tensor = torch.from_numpy(logits)\n",
        "        logits_tensor = nn.functional.interpolate(\n",
        "            logits_tensor,\n",
        "            size=labels.shape[-2:],\n",
        "            mode=\"bilinear\",\n",
        "            align_corners=False,\n",
        "        ).argmax(dim=1)\n",
        "\n",
        "        pred_labels = logits_tensor.detach().cpu().numpy()\n",
        "        metrics = metric.compute(\n",
        "            predictions=pred_labels,\n",
        "            references=labels,\n",
        "            num_labels=num_classes,\n",
        "            ignore_index=255,\n",
        "            reduce_labels=False,\n",
        "        )\n",
        "        for key, value in metrics.items():\n",
        "            if type(value) is np.ndarray:\n",
        "                metrics[key] = value.tolist()\n",
        "        return metrics\n"
      ]
    },
    {
      "cell_type": "code",
      "execution_count": null,
      "metadata": {
        "id": "ukT6WLsu7wrv",
        "colab": {
          "base_uri": "https://localhost:8080/",
          "height": 1000
        },
        "outputId": "fc5739aa-a9da-4100-eee6-a7cd3c584f7a"
      },
      "outputs": [
        {
          "output_type": "stream",
          "name": "stderr",
          "text": [
            "PyTorch: setting up devices\n",
            "The default value for the training argument `--report_to` will change in v5 (from all installed integrations to none). In v5, you will need to use `--report_to all` to get the same behavior as now. You should start updating your code and make this info disappear :-).\n",
            "/usr/local/lib/python3.7/dist-packages/transformers/optimization.py:310: FutureWarning: This implementation of AdamW is deprecated and will be removed in a future version. Use the PyTorch implementation torch.optim.AdamW instead, or set `no_deprecation_warning=True` to disable this warning\n",
            "  FutureWarning,\n",
            "***** Running training *****\n",
            "  Num examples = 990\n",
            "  Num Epochs = 5\n",
            "  Instantaneous batch size per device = 1\n",
            "  Total train batch size (w. parallel, distributed & accumulation) = 1\n",
            "  Gradient Accumulation steps = 1\n",
            "  Total optimization steps = 4950\n"
          ]
        },
        {
          "output_type": "display_data",
          "data": {
            "text/plain": [
              "<IPython.core.display.HTML object>"
            ],
            "text/html": [
              "\n",
              "    <div>\n",
              "      \n",
              "      <progress value='4950' max='4950' style='width:300px; height:20px; vertical-align: middle;'></progress>\n",
              "      [4950/4950 7:30:35, Epoch 5/5]\n",
              "    </div>\n",
              "    <table border=\"1\" class=\"dataframe\">\n",
              "  <thead>\n",
              " <tr style=\"text-align: left;\">\n",
              "      <th>Step</th>\n",
              "      <th>Training Loss</th>\n",
              "      <th>Validation Loss</th>\n",
              "      <th>Mean Iou</th>\n",
              "      <th>Mean Accuracy</th>\n",
              "      <th>Overall Accuracy</th>\n",
              "      <th>Per Category Iou</th>\n",
              "      <th>Per Category Accuracy</th>\n",
              "    </tr>\n",
              "  </thead>\n",
              "  <tbody>\n",
              "    <tr>\n",
              "      <td>200</td>\n",
              "      <td>0.698700</td>\n",
              "      <td>0.864318</td>\n",
              "      <td>0.337894</td>\n",
              "      <td>0.503764</td>\n",
              "      <td>0.823383</td>\n",
              "      <td>[0.7934663063797772, 0.7266546120590337, 0.0, 0.031206377194915876, 0.13814452803250782]</td>\n",
              "      <td>[0.9775371727155983, 0.8394692437490413, nan, 0.05085608237547893, 0.14719304917649123]</td>\n",
              "    </tr>\n",
              "    <tr>\n",
              "      <td>400</td>\n",
              "      <td>0.775600</td>\n",
              "      <td>1.255678</td>\n",
              "      <td>0.331114</td>\n",
              "      <td>0.491931</td>\n",
              "      <td>0.822875</td>\n",
              "      <td>[0.7801702887631914, 0.7360185503721541, 0.0, 0.0, 0.13938165948764453]</td>\n",
              "      <td>[0.9937099130779327, 0.8301270193612036, nan, 0.0, 0.1438873124067519]</td>\n",
              "    </tr>\n",
              "    <tr>\n",
              "      <td>600</td>\n",
              "      <td>0.923500</td>\n",
              "      <td>1.095174</td>\n",
              "      <td>0.387108</td>\n",
              "      <td>0.608245</td>\n",
              "      <td>0.841241</td>\n",
              "      <td>[0.7585593403618923, 0.7723089983737963, 0.0, 0.35523225469728603, 0.04943695987429802]</td>\n",
              "      <td>[0.9864717140663749, 0.8263582469343006, nan, 0.5704471982758621, 0.04970306877687739]</td>\n",
              "    </tr>\n",
              "    <tr>\n",
              "      <td>800</td>\n",
              "      <td>0.671000</td>\n",
              "      <td>0.711278</td>\n",
              "      <td>0.466565</td>\n",
              "      <td>0.729581</td>\n",
              "      <td>0.871228</td>\n",
              "      <td>[0.8160233706395391, 0.8057744754714146, 0.0, 0.5579086163285076, 0.15312054557142457]</td>\n",
              "      <td>[0.9886987161571743, 0.8384556154107601, nan, 0.9308997844827587, 0.16026972471696457]</td>\n",
              "    </tr>\n",
              "    <tr>\n",
              "      <td>1000</td>\n",
              "      <td>0.748300</td>\n",
              "      <td>0.906403</td>\n",
              "      <td>0.633256</td>\n",
              "      <td>0.812957</td>\n",
              "      <td>0.870390</td>\n",
              "      <td>[0.8212428123984746, 0.752184404654592, nan, 0.519067832439837, 0.440528074170838]</td>\n",
              "      <td>[0.9211050458666912, 0.854593962143839, nan, 0.9187320402298851, 0.557396951701138]</td>\n",
              "    </tr>\n",
              "    <tr>\n",
              "      <td>1200</td>\n",
              "      <td>0.610100</td>\n",
              "      <td>0.816062</td>\n",
              "      <td>0.499174</td>\n",
              "      <td>0.781194</td>\n",
              "      <td>0.865127</td>\n",
              "      <td>[0.8354035247447487, 0.8032596887249284, 0.0, 0.5748483107744229, 0.2823575966289491]</td>\n",
              "      <td>[0.9316368730697252, 0.8484385010331791, nan, 0.9585278975095786, 0.3861714887517187]</td>\n",
              "    </tr>\n",
              "    <tr>\n",
              "      <td>1400</td>\n",
              "      <td>0.697300</td>\n",
              "      <td>0.895380</td>\n",
              "      <td>0.461143</td>\n",
              "      <td>0.695294</td>\n",
              "      <td>0.873014</td>\n",
              "      <td>[0.8295360268339028, 0.8047378895854945, 0.0, 0.2973295459604819, 0.37411336388174]</td>\n",
              "      <td>[0.9869050861968323, 0.8586349404004584, nan, 0.49974556992337166, 0.4358891846824445]</td>\n",
              "    </tr>\n",
              "    <tr>\n",
              "      <td>1600</td>\n",
              "      <td>0.566900</td>\n",
              "      <td>0.795837</td>\n",
              "      <td>0.588779</td>\n",
              "      <td>0.754439</td>\n",
              "      <td>0.873219</td>\n",
              "      <td>[0.8792663910677572, 0.756491300055136, nan, 0.3208179530971664, 0.39854039375424305]</td>\n",
              "      <td>[0.9206203766269143, 0.8872706929067071, nan, 0.5229136733716475, 0.6869496533364537]</td>\n",
              "    </tr>\n",
              "    <tr>\n",
              "      <td>1800</td>\n",
              "      <td>0.688300</td>\n",
              "      <td>0.881952</td>\n",
              "      <td>0.502800</td>\n",
              "      <td>0.816141</td>\n",
              "      <td>0.871917</td>\n",
              "      <td>[0.8546888612528015, 0.8126761040081907, 0.0, 0.43135702138155757, 0.4152762237332317]</td>\n",
              "      <td>[0.90931732391825, 0.8666477175315593, nan, 0.9945821360153256, 0.4940174940760027]</td>\n",
              "    </tr>\n",
              "    <tr>\n",
              "      <td>2000</td>\n",
              "      <td>0.699400</td>\n",
              "      <td>0.796042</td>\n",
              "      <td>0.497917</td>\n",
              "      <td>0.763581</td>\n",
              "      <td>0.885003</td>\n",
              "      <td>[0.8507604780278376, 0.819513908178818, 0.0, 0.5471639595572924, 0.27214821789581545]</td>\n",
              "      <td>[0.9863638132502203, 0.8563264544965095, nan, 0.9241499042145593, 0.2874820817365357]</td>\n",
              "    </tr>\n",
              "    <tr>\n",
              "      <td>2200</td>\n",
              "      <td>0.567500</td>\n",
              "      <td>0.784994</td>\n",
              "      <td>0.552361</td>\n",
              "      <td>0.858860</td>\n",
              "      <td>0.886811</td>\n",
              "      <td>[0.8519753813840034, 0.7774678717189472, 0.0, 0.531891587128992, 0.6004721680153933]</td>\n",
              "      <td>[0.9872765480229386, 0.8161963972580902, nan, 0.9883411159003831, 0.6436240236374806]</td>\n",
              "    </tr>\n",
              "    <tr>\n",
              "      <td>2400</td>\n",
              "      <td>0.649900</td>\n",
              "      <td>0.829080</td>\n",
              "      <td>0.518600</td>\n",
              "      <td>0.802390</td>\n",
              "      <td>0.890278</td>\n",
              "      <td>[0.8695530294704619, 0.8237650867236832, 0.0, 0.5352914278248657, 0.364392476675263]</td>\n",
              "      <td>[0.9657087668528693, 0.8679651335914025, nan, 0.9811272749042146, 0.39475762806073195]</td>\n",
              "    </tr>\n",
              "    <tr>\n",
              "      <td>2600</td>\n",
              "      <td>0.423000</td>\n",
              "      <td>0.753512</td>\n",
              "      <td>0.574111</td>\n",
              "      <td>0.893581</td>\n",
              "      <td>0.905077</td>\n",
              "      <td>[0.8706014290950214, 0.8196197918185264, 0.0, 0.5571869133816036, 0.6231449321124092]</td>\n",
              "      <td>[0.9831922368016075, 0.8455074006899892, nan, 0.9950909961685823, 0.7505338911154668]</td>\n",
              "    </tr>\n",
              "    <tr>\n",
              "      <td>2800</td>\n",
              "      <td>0.420700</td>\n",
              "      <td>0.834617</td>\n",
              "      <td>0.574755</td>\n",
              "      <td>0.869258</td>\n",
              "      <td>0.902596</td>\n",
              "      <td>[0.8913532205056544, 0.8338807543154169, 0.0, 0.5485768986375527, 0.5999621585825686]</td>\n",
              "      <td>[0.9748449589092466, 0.8579326192817976, nan, 0.9949113984674329, 0.6493432407922066]</td>\n",
              "    </tr>\n",
              "    <tr>\n",
              "      <td>3000</td>\n",
              "      <td>0.661900</td>\n",
              "      <td>0.923154</td>\n",
              "      <td>0.499911</td>\n",
              "      <td>0.801244</td>\n",
              "      <td>0.886169</td>\n",
              "      <td>[0.8990840236260763, 0.8037219001637681, 0.0, 0.5015885204926672, 0.2951626034646524]</td>\n",
              "      <td>[0.9728178386582091, 0.8532043589026346, nan, 0.997141403256705, 0.3818125969048942]</td>\n",
              "    </tr>\n",
              "    <tr>\n",
              "      <td>3200</td>\n",
              "      <td>0.601900</td>\n",
              "      <td>0.731623</td>\n",
              "      <td>0.595989</td>\n",
              "      <td>0.900647</td>\n",
              "      <td>0.920493</td>\n",
              "      <td>[0.905510287061885, 0.8494706591645732, 0.0, 0.5854334566190296, 0.6395303815649784]</td>\n",
              "      <td>[0.9848213622389597, 0.8761899605677522, nan, 0.992606561302682, 0.7489687856536875]</td>\n",
              "    </tr>\n",
              "    <tr>\n",
              "      <td>3400</td>\n",
              "      <td>0.357000</td>\n",
              "      <td>0.796008</td>\n",
              "      <td>0.555376</td>\n",
              "      <td>0.860242</td>\n",
              "      <td>0.904824</td>\n",
              "      <td>[0.8900333857501875, 0.8343539023991403, 0.0, 0.5461299041690556, 0.5063628950554746]</td>\n",
              "      <td>[0.9841527309519682, 0.8594169681985389, nan, 0.9979196599616859, 0.5994792733229968]</td>\n",
              "    </tr>\n",
              "    <tr>\n",
              "      <td>3600</td>\n",
              "      <td>0.264200</td>\n",
              "      <td>0.659866</td>\n",
              "      <td>0.560595</td>\n",
              "      <td>0.866610</td>\n",
              "      <td>0.908531</td>\n",
              "      <td>[0.9011926951077744, 0.8256840259773743, 0.0, 0.5409371447133344, 0.5351634910026355]</td>\n",
              "      <td>[0.9818249035083685, 0.8669199233612758, nan, 0.996931872605364, 0.6207617821724248]</td>\n",
              "    </tr>\n",
              "    <tr>\n",
              "      <td>3800</td>\n",
              "      <td>0.333300</td>\n",
              "      <td>0.790231</td>\n",
              "      <td>0.568359</td>\n",
              "      <td>0.867147</td>\n",
              "      <td>0.911040</td>\n",
              "      <td>[0.9016317129742267, 0.8370683663487228, 0.0, 0.5639876286912681, 0.539105468002297]</td>\n",
              "      <td>[0.9832824489593762, 0.8712000216561544, nan, 0.9961536159003831, 0.6179533686335313]</td>\n",
              "    </tr>\n",
              "    <tr>\n",
              "      <td>4000</td>\n",
              "      <td>0.352600</td>\n",
              "      <td>0.791768</td>\n",
              "      <td>0.539871</td>\n",
              "      <td>0.829308</td>\n",
              "      <td>0.898053</td>\n",
              "      <td>[0.893268097923836, 0.8302148966940647, 0.0, 0.5570173605596838, 0.4188551497743127]</td>\n",
              "      <td>[0.983052496400358, 0.8590154270022168, nan, 0.9973808668582376, 0.47778135330427407]</td>\n",
              "    </tr>\n",
              "    <tr>\n",
              "      <td>4200</td>\n",
              "      <td>0.319900</td>\n",
              "      <td>0.668343</td>\n",
              "      <td>0.560768</td>\n",
              "      <td>0.861650</td>\n",
              "      <td>0.909180</td>\n",
              "      <td>[0.9120993847547884, 0.8354002368778346, 0.0, 0.5463408240007209, 0.5099971204286805]</td>\n",
              "      <td>[0.982852614560596, 0.8698269613106786, nan, 0.9980842911877394, 0.5958371120147442]</td>\n",
              "    </tr>\n",
              "    <tr>\n",
              "      <td>4400</td>\n",
              "      <td>0.262900</td>\n",
              "      <td>0.693902</td>\n",
              "      <td>0.564275</td>\n",
              "      <td>0.882773</td>\n",
              "      <td>0.901113</td>\n",
              "      <td>[0.9103344541386044, 0.8380596003619561, 0.0, 0.4895976994630124, 0.5833852419741256]</td>\n",
              "      <td>[0.9549257607007539, 0.8649468070707345, nan, 0.9988625478927203, 0.7123570195711318]</td>\n",
              "    </tr>\n",
              "    <tr>\n",
              "      <td>4600</td>\n",
              "      <td>0.221500</td>\n",
              "      <td>0.678087</td>\n",
              "      <td>0.565320</td>\n",
              "      <td>0.867051</td>\n",
              "      <td>0.911002</td>\n",
              "      <td>[0.9135097630091451, 0.839268488918296, 0.0, 0.5233817183209102, 0.5504385107575225]</td>\n",
              "      <td>[0.9688131263996151, 0.8832161795535824, nan, 0.9983387212643678, 0.6178363514027441]</td>\n",
              "    </tr>\n",
              "    <tr>\n",
              "      <td>4800</td>\n",
              "      <td>0.259000</td>\n",
              "      <td>0.720151</td>\n",
              "      <td>0.558874</td>\n",
              "      <td>0.864325</td>\n",
              "      <td>0.907190</td>\n",
              "      <td>[0.9169802274831371, 0.8376158192419316, 0.0, 0.5367037069818714, 0.5030699909882848]</td>\n",
              "      <td>[0.9811244326362822, 0.8654852031317205, nan, 0.9982788553639846, 0.6124096773249861]</td>\n",
              "    </tr>\n",
              "  </tbody>\n",
              "</table><p>"
            ]
          },
          "metadata": {}
        },
        {
          "output_type": "stream",
          "name": "stderr",
          "text": [
            "***** Running Evaluation *****\n",
            "  Num examples = 10\n",
            "  Batch size = 1\n",
            "/root/.cache/huggingface/modules/evaluate_modules/metrics/evaluate-metric--mean_iou/08bc20f4f895f3caf75fb9e3fada1404bded3c3265243d05327cbb3b9326ffe9/mean_iou.py:260: RuntimeWarning: invalid value encountered in true_divide\n",
            "  acc = total_area_intersect / total_area_label\n",
            "Trainer is attempting to log a value of \"[0.7934663063797772, 0.7266546120590337, 0.0, 0.031206377194915876, 0.13814452803250782]\" of type <class 'list'> for key \"eval/per_category_iou\" as a scalar. This invocation of Tensorboard's writer.add_scalar() is incorrect so we dropped this attribute.\n",
            "Trainer is attempting to log a value of \"[0.9775371727155983, 0.8394692437490413, nan, 0.05085608237547893, 0.14719304917649123]\" of type <class 'list'> for key \"eval/per_category_accuracy\" as a scalar. This invocation of Tensorboard's writer.add_scalar() is incorrect so we dropped this attribute.\n",
            "Saving model checkpoint to regular-segmentation-model/checkpoint-200\n",
            "Configuration saved in regular-segmentation-model/checkpoint-200/config.json\n",
            "Model weights saved in regular-segmentation-model/checkpoint-200/pytorch_model.bin\n",
            "***** Running Evaluation *****\n",
            "  Num examples = 10\n",
            "  Batch size = 1\n",
            "/root/.cache/huggingface/modules/evaluate_modules/metrics/evaluate-metric--mean_iou/08bc20f4f895f3caf75fb9e3fada1404bded3c3265243d05327cbb3b9326ffe9/mean_iou.py:260: RuntimeWarning: invalid value encountered in true_divide\n",
            "  acc = total_area_intersect / total_area_label\n",
            "Trainer is attempting to log a value of \"[0.7801702887631914, 0.7360185503721541, 0.0, 0.0, 0.13938165948764453]\" of type <class 'list'> for key \"eval/per_category_iou\" as a scalar. This invocation of Tensorboard's writer.add_scalar() is incorrect so we dropped this attribute.\n",
            "Trainer is attempting to log a value of \"[0.9937099130779327, 0.8301270193612036, nan, 0.0, 0.1438873124067519]\" of type <class 'list'> for key \"eval/per_category_accuracy\" as a scalar. This invocation of Tensorboard's writer.add_scalar() is incorrect so we dropped this attribute.\n",
            "Saving model checkpoint to regular-segmentation-model/checkpoint-400\n",
            "Configuration saved in regular-segmentation-model/checkpoint-400/config.json\n",
            "Model weights saved in regular-segmentation-model/checkpoint-400/pytorch_model.bin\n",
            "***** Running Evaluation *****\n",
            "  Num examples = 10\n",
            "  Batch size = 1\n",
            "/root/.cache/huggingface/modules/evaluate_modules/metrics/evaluate-metric--mean_iou/08bc20f4f895f3caf75fb9e3fada1404bded3c3265243d05327cbb3b9326ffe9/mean_iou.py:260: RuntimeWarning: invalid value encountered in true_divide\n",
            "  acc = total_area_intersect / total_area_label\n",
            "Trainer is attempting to log a value of \"[0.7585593403618923, 0.7723089983737963, 0.0, 0.35523225469728603, 0.04943695987429802]\" of type <class 'list'> for key \"eval/per_category_iou\" as a scalar. This invocation of Tensorboard's writer.add_scalar() is incorrect so we dropped this attribute.\n",
            "Trainer is attempting to log a value of \"[0.9864717140663749, 0.8263582469343006, nan, 0.5704471982758621, 0.04970306877687739]\" of type <class 'list'> for key \"eval/per_category_accuracy\" as a scalar. This invocation of Tensorboard's writer.add_scalar() is incorrect so we dropped this attribute.\n",
            "Saving model checkpoint to regular-segmentation-model/checkpoint-600\n",
            "Configuration saved in regular-segmentation-model/checkpoint-600/config.json\n",
            "Model weights saved in regular-segmentation-model/checkpoint-600/pytorch_model.bin\n",
            "***** Running Evaluation *****\n",
            "  Num examples = 10\n",
            "  Batch size = 1\n",
            "/root/.cache/huggingface/modules/evaluate_modules/metrics/evaluate-metric--mean_iou/08bc20f4f895f3caf75fb9e3fada1404bded3c3265243d05327cbb3b9326ffe9/mean_iou.py:260: RuntimeWarning: invalid value encountered in true_divide\n",
            "  acc = total_area_intersect / total_area_label\n",
            "Trainer is attempting to log a value of \"[0.8160233706395391, 0.8057744754714146, 0.0, 0.5579086163285076, 0.15312054557142457]\" of type <class 'list'> for key \"eval/per_category_iou\" as a scalar. This invocation of Tensorboard's writer.add_scalar() is incorrect so we dropped this attribute.\n",
            "Trainer is attempting to log a value of \"[0.9886987161571743, 0.8384556154107601, nan, 0.9308997844827587, 0.16026972471696457]\" of type <class 'list'> for key \"eval/per_category_accuracy\" as a scalar. This invocation of Tensorboard's writer.add_scalar() is incorrect so we dropped this attribute.\n",
            "Saving model checkpoint to regular-segmentation-model/checkpoint-800\n",
            "Configuration saved in regular-segmentation-model/checkpoint-800/config.json\n",
            "Model weights saved in regular-segmentation-model/checkpoint-800/pytorch_model.bin\n",
            "***** Running Evaluation *****\n",
            "  Num examples = 10\n",
            "  Batch size = 1\n",
            "/root/.cache/huggingface/modules/evaluate_modules/metrics/evaluate-metric--mean_iou/08bc20f4f895f3caf75fb9e3fada1404bded3c3265243d05327cbb3b9326ffe9/mean_iou.py:259: RuntimeWarning: invalid value encountered in true_divide\n",
            "  iou = total_area_intersect / total_area_union\n",
            "/root/.cache/huggingface/modules/evaluate_modules/metrics/evaluate-metric--mean_iou/08bc20f4f895f3caf75fb9e3fada1404bded3c3265243d05327cbb3b9326ffe9/mean_iou.py:260: RuntimeWarning: invalid value encountered in true_divide\n",
            "  acc = total_area_intersect / total_area_label\n",
            "Trainer is attempting to log a value of \"[0.8212428123984746, 0.752184404654592, nan, 0.519067832439837, 0.440528074170838]\" of type <class 'list'> for key \"eval/per_category_iou\" as a scalar. This invocation of Tensorboard's writer.add_scalar() is incorrect so we dropped this attribute.\n",
            "Trainer is attempting to log a value of \"[0.9211050458666912, 0.854593962143839, nan, 0.9187320402298851, 0.557396951701138]\" of type <class 'list'> for key \"eval/per_category_accuracy\" as a scalar. This invocation of Tensorboard's writer.add_scalar() is incorrect so we dropped this attribute.\n",
            "Saving model checkpoint to regular-segmentation-model/checkpoint-1000\n",
            "Configuration saved in regular-segmentation-model/checkpoint-1000/config.json\n",
            "Model weights saved in regular-segmentation-model/checkpoint-1000/pytorch_model.bin\n",
            "***** Running Evaluation *****\n",
            "  Num examples = 10\n",
            "  Batch size = 1\n",
            "/root/.cache/huggingface/modules/evaluate_modules/metrics/evaluate-metric--mean_iou/08bc20f4f895f3caf75fb9e3fada1404bded3c3265243d05327cbb3b9326ffe9/mean_iou.py:260: RuntimeWarning: invalid value encountered in true_divide\n",
            "  acc = total_area_intersect / total_area_label\n",
            "Trainer is attempting to log a value of \"[0.8354035247447487, 0.8032596887249284, 0.0, 0.5748483107744229, 0.2823575966289491]\" of type <class 'list'> for key \"eval/per_category_iou\" as a scalar. This invocation of Tensorboard's writer.add_scalar() is incorrect so we dropped this attribute.\n",
            "Trainer is attempting to log a value of \"[0.9316368730697252, 0.8484385010331791, nan, 0.9585278975095786, 0.3861714887517187]\" of type <class 'list'> for key \"eval/per_category_accuracy\" as a scalar. This invocation of Tensorboard's writer.add_scalar() is incorrect so we dropped this attribute.\n",
            "Saving model checkpoint to regular-segmentation-model/checkpoint-1200\n",
            "Configuration saved in regular-segmentation-model/checkpoint-1200/config.json\n",
            "Model weights saved in regular-segmentation-model/checkpoint-1200/pytorch_model.bin\n",
            "***** Running Evaluation *****\n",
            "  Num examples = 10\n",
            "  Batch size = 1\n",
            "/root/.cache/huggingface/modules/evaluate_modules/metrics/evaluate-metric--mean_iou/08bc20f4f895f3caf75fb9e3fada1404bded3c3265243d05327cbb3b9326ffe9/mean_iou.py:260: RuntimeWarning: invalid value encountered in true_divide\n",
            "  acc = total_area_intersect / total_area_label\n",
            "Trainer is attempting to log a value of \"[0.8295360268339028, 0.8047378895854945, 0.0, 0.2973295459604819, 0.37411336388174]\" of type <class 'list'> for key \"eval/per_category_iou\" as a scalar. This invocation of Tensorboard's writer.add_scalar() is incorrect so we dropped this attribute.\n",
            "Trainer is attempting to log a value of \"[0.9869050861968323, 0.8586349404004584, nan, 0.49974556992337166, 0.4358891846824445]\" of type <class 'list'> for key \"eval/per_category_accuracy\" as a scalar. This invocation of Tensorboard's writer.add_scalar() is incorrect so we dropped this attribute.\n",
            "Saving model checkpoint to regular-segmentation-model/checkpoint-1400\n",
            "Configuration saved in regular-segmentation-model/checkpoint-1400/config.json\n",
            "Model weights saved in regular-segmentation-model/checkpoint-1400/pytorch_model.bin\n",
            "***** Running Evaluation *****\n",
            "  Num examples = 10\n",
            "  Batch size = 1\n",
            "/root/.cache/huggingface/modules/evaluate_modules/metrics/evaluate-metric--mean_iou/08bc20f4f895f3caf75fb9e3fada1404bded3c3265243d05327cbb3b9326ffe9/mean_iou.py:259: RuntimeWarning: invalid value encountered in true_divide\n",
            "  iou = total_area_intersect / total_area_union\n",
            "/root/.cache/huggingface/modules/evaluate_modules/metrics/evaluate-metric--mean_iou/08bc20f4f895f3caf75fb9e3fada1404bded3c3265243d05327cbb3b9326ffe9/mean_iou.py:260: RuntimeWarning: invalid value encountered in true_divide\n",
            "  acc = total_area_intersect / total_area_label\n",
            "Trainer is attempting to log a value of \"[0.8792663910677572, 0.756491300055136, nan, 0.3208179530971664, 0.39854039375424305]\" of type <class 'list'> for key \"eval/per_category_iou\" as a scalar. This invocation of Tensorboard's writer.add_scalar() is incorrect so we dropped this attribute.\n",
            "Trainer is attempting to log a value of \"[0.9206203766269143, 0.8872706929067071, nan, 0.5229136733716475, 0.6869496533364537]\" of type <class 'list'> for key \"eval/per_category_accuracy\" as a scalar. This invocation of Tensorboard's writer.add_scalar() is incorrect so we dropped this attribute.\n",
            "Saving model checkpoint to regular-segmentation-model/checkpoint-1600\n",
            "Configuration saved in regular-segmentation-model/checkpoint-1600/config.json\n",
            "Model weights saved in regular-segmentation-model/checkpoint-1600/pytorch_model.bin\n",
            "***** Running Evaluation *****\n",
            "  Num examples = 10\n",
            "  Batch size = 1\n",
            "/root/.cache/huggingface/modules/evaluate_modules/metrics/evaluate-metric--mean_iou/08bc20f4f895f3caf75fb9e3fada1404bded3c3265243d05327cbb3b9326ffe9/mean_iou.py:260: RuntimeWarning: invalid value encountered in true_divide\n",
            "  acc = total_area_intersect / total_area_label\n",
            "Trainer is attempting to log a value of \"[0.8546888612528015, 0.8126761040081907, 0.0, 0.43135702138155757, 0.4152762237332317]\" of type <class 'list'> for key \"eval/per_category_iou\" as a scalar. This invocation of Tensorboard's writer.add_scalar() is incorrect so we dropped this attribute.\n",
            "Trainer is attempting to log a value of \"[0.90931732391825, 0.8666477175315593, nan, 0.9945821360153256, 0.4940174940760027]\" of type <class 'list'> for key \"eval/per_category_accuracy\" as a scalar. This invocation of Tensorboard's writer.add_scalar() is incorrect so we dropped this attribute.\n",
            "Saving model checkpoint to regular-segmentation-model/checkpoint-1800\n",
            "Configuration saved in regular-segmentation-model/checkpoint-1800/config.json\n",
            "Model weights saved in regular-segmentation-model/checkpoint-1800/pytorch_model.bin\n",
            "***** Running Evaluation *****\n",
            "  Num examples = 10\n",
            "  Batch size = 1\n",
            "/root/.cache/huggingface/modules/evaluate_modules/metrics/evaluate-metric--mean_iou/08bc20f4f895f3caf75fb9e3fada1404bded3c3265243d05327cbb3b9326ffe9/mean_iou.py:260: RuntimeWarning: invalid value encountered in true_divide\n",
            "  acc = total_area_intersect / total_area_label\n",
            "Trainer is attempting to log a value of \"[0.8507604780278376, 0.819513908178818, 0.0, 0.5471639595572924, 0.27214821789581545]\" of type <class 'list'> for key \"eval/per_category_iou\" as a scalar. This invocation of Tensorboard's writer.add_scalar() is incorrect so we dropped this attribute.\n",
            "Trainer is attempting to log a value of \"[0.9863638132502203, 0.8563264544965095, nan, 0.9241499042145593, 0.2874820817365357]\" of type <class 'list'> for key \"eval/per_category_accuracy\" as a scalar. This invocation of Tensorboard's writer.add_scalar() is incorrect so we dropped this attribute.\n",
            "Saving model checkpoint to regular-segmentation-model/checkpoint-2000\n",
            "Configuration saved in regular-segmentation-model/checkpoint-2000/config.json\n",
            "Model weights saved in regular-segmentation-model/checkpoint-2000/pytorch_model.bin\n",
            "***** Running Evaluation *****\n",
            "  Num examples = 10\n",
            "  Batch size = 1\n",
            "/root/.cache/huggingface/modules/evaluate_modules/metrics/evaluate-metric--mean_iou/08bc20f4f895f3caf75fb9e3fada1404bded3c3265243d05327cbb3b9326ffe9/mean_iou.py:260: RuntimeWarning: invalid value encountered in true_divide\n",
            "  acc = total_area_intersect / total_area_label\n",
            "Trainer is attempting to log a value of \"[0.8519753813840034, 0.7774678717189472, 0.0, 0.531891587128992, 0.6004721680153933]\" of type <class 'list'> for key \"eval/per_category_iou\" as a scalar. This invocation of Tensorboard's writer.add_scalar() is incorrect so we dropped this attribute.\n",
            "Trainer is attempting to log a value of \"[0.9872765480229386, 0.8161963972580902, nan, 0.9883411159003831, 0.6436240236374806]\" of type <class 'list'> for key \"eval/per_category_accuracy\" as a scalar. This invocation of Tensorboard's writer.add_scalar() is incorrect so we dropped this attribute.\n",
            "Saving model checkpoint to regular-segmentation-model/checkpoint-2200\n",
            "Configuration saved in regular-segmentation-model/checkpoint-2200/config.json\n",
            "Model weights saved in regular-segmentation-model/checkpoint-2200/pytorch_model.bin\n",
            "***** Running Evaluation *****\n",
            "  Num examples = 10\n",
            "  Batch size = 1\n",
            "/root/.cache/huggingface/modules/evaluate_modules/metrics/evaluate-metric--mean_iou/08bc20f4f895f3caf75fb9e3fada1404bded3c3265243d05327cbb3b9326ffe9/mean_iou.py:260: RuntimeWarning: invalid value encountered in true_divide\n",
            "  acc = total_area_intersect / total_area_label\n",
            "Trainer is attempting to log a value of \"[0.8695530294704619, 0.8237650867236832, 0.0, 0.5352914278248657, 0.364392476675263]\" of type <class 'list'> for key \"eval/per_category_iou\" as a scalar. This invocation of Tensorboard's writer.add_scalar() is incorrect so we dropped this attribute.\n",
            "Trainer is attempting to log a value of \"[0.9657087668528693, 0.8679651335914025, nan, 0.9811272749042146, 0.39475762806073195]\" of type <class 'list'> for key \"eval/per_category_accuracy\" as a scalar. This invocation of Tensorboard's writer.add_scalar() is incorrect so we dropped this attribute.\n",
            "Saving model checkpoint to regular-segmentation-model/checkpoint-2400\n",
            "Configuration saved in regular-segmentation-model/checkpoint-2400/config.json\n",
            "Model weights saved in regular-segmentation-model/checkpoint-2400/pytorch_model.bin\n",
            "***** Running Evaluation *****\n",
            "  Num examples = 10\n",
            "  Batch size = 1\n",
            "/root/.cache/huggingface/modules/evaluate_modules/metrics/evaluate-metric--mean_iou/08bc20f4f895f3caf75fb9e3fada1404bded3c3265243d05327cbb3b9326ffe9/mean_iou.py:260: RuntimeWarning: invalid value encountered in true_divide\n",
            "  acc = total_area_intersect / total_area_label\n",
            "Trainer is attempting to log a value of \"[0.8706014290950214, 0.8196197918185264, 0.0, 0.5571869133816036, 0.6231449321124092]\" of type <class 'list'> for key \"eval/per_category_iou\" as a scalar. This invocation of Tensorboard's writer.add_scalar() is incorrect so we dropped this attribute.\n",
            "Trainer is attempting to log a value of \"[0.9831922368016075, 0.8455074006899892, nan, 0.9950909961685823, 0.7505338911154668]\" of type <class 'list'> for key \"eval/per_category_accuracy\" as a scalar. This invocation of Tensorboard's writer.add_scalar() is incorrect so we dropped this attribute.\n",
            "Saving model checkpoint to regular-segmentation-model/checkpoint-2600\n",
            "Configuration saved in regular-segmentation-model/checkpoint-2600/config.json\n",
            "Model weights saved in regular-segmentation-model/checkpoint-2600/pytorch_model.bin\n",
            "***** Running Evaluation *****\n",
            "  Num examples = 10\n",
            "  Batch size = 1\n",
            "/root/.cache/huggingface/modules/evaluate_modules/metrics/evaluate-metric--mean_iou/08bc20f4f895f3caf75fb9e3fada1404bded3c3265243d05327cbb3b9326ffe9/mean_iou.py:260: RuntimeWarning: invalid value encountered in true_divide\n",
            "  acc = total_area_intersect / total_area_label\n",
            "Trainer is attempting to log a value of \"[0.8913532205056544, 0.8338807543154169, 0.0, 0.5485768986375527, 0.5999621585825686]\" of type <class 'list'> for key \"eval/per_category_iou\" as a scalar. This invocation of Tensorboard's writer.add_scalar() is incorrect so we dropped this attribute.\n",
            "Trainer is attempting to log a value of \"[0.9748449589092466, 0.8579326192817976, nan, 0.9949113984674329, 0.6493432407922066]\" of type <class 'list'> for key \"eval/per_category_accuracy\" as a scalar. This invocation of Tensorboard's writer.add_scalar() is incorrect so we dropped this attribute.\n",
            "Saving model checkpoint to regular-segmentation-model/checkpoint-2800\n",
            "Configuration saved in regular-segmentation-model/checkpoint-2800/config.json\n",
            "Model weights saved in regular-segmentation-model/checkpoint-2800/pytorch_model.bin\n",
            "***** Running Evaluation *****\n",
            "  Num examples = 10\n",
            "  Batch size = 1\n",
            "/root/.cache/huggingface/modules/evaluate_modules/metrics/evaluate-metric--mean_iou/08bc20f4f895f3caf75fb9e3fada1404bded3c3265243d05327cbb3b9326ffe9/mean_iou.py:260: RuntimeWarning: invalid value encountered in true_divide\n",
            "  acc = total_area_intersect / total_area_label\n",
            "Trainer is attempting to log a value of \"[0.8990840236260763, 0.8037219001637681, 0.0, 0.5015885204926672, 0.2951626034646524]\" of type <class 'list'> for key \"eval/per_category_iou\" as a scalar. This invocation of Tensorboard's writer.add_scalar() is incorrect so we dropped this attribute.\n",
            "Trainer is attempting to log a value of \"[0.9728178386582091, 0.8532043589026346, nan, 0.997141403256705, 0.3818125969048942]\" of type <class 'list'> for key \"eval/per_category_accuracy\" as a scalar. This invocation of Tensorboard's writer.add_scalar() is incorrect so we dropped this attribute.\n",
            "Saving model checkpoint to regular-segmentation-model/checkpoint-3000\n",
            "Configuration saved in regular-segmentation-model/checkpoint-3000/config.json\n",
            "Model weights saved in regular-segmentation-model/checkpoint-3000/pytorch_model.bin\n",
            "***** Running Evaluation *****\n",
            "  Num examples = 10\n",
            "  Batch size = 1\n",
            "/root/.cache/huggingface/modules/evaluate_modules/metrics/evaluate-metric--mean_iou/08bc20f4f895f3caf75fb9e3fada1404bded3c3265243d05327cbb3b9326ffe9/mean_iou.py:260: RuntimeWarning: invalid value encountered in true_divide\n",
            "  acc = total_area_intersect / total_area_label\n",
            "Trainer is attempting to log a value of \"[0.905510287061885, 0.8494706591645732, 0.0, 0.5854334566190296, 0.6395303815649784]\" of type <class 'list'> for key \"eval/per_category_iou\" as a scalar. This invocation of Tensorboard's writer.add_scalar() is incorrect so we dropped this attribute.\n",
            "Trainer is attempting to log a value of \"[0.9848213622389597, 0.8761899605677522, nan, 0.992606561302682, 0.7489687856536875]\" of type <class 'list'> for key \"eval/per_category_accuracy\" as a scalar. This invocation of Tensorboard's writer.add_scalar() is incorrect so we dropped this attribute.\n",
            "Saving model checkpoint to regular-segmentation-model/checkpoint-3200\n",
            "Configuration saved in regular-segmentation-model/checkpoint-3200/config.json\n",
            "Model weights saved in regular-segmentation-model/checkpoint-3200/pytorch_model.bin\n",
            "***** Running Evaluation *****\n",
            "  Num examples = 10\n",
            "  Batch size = 1\n",
            "/root/.cache/huggingface/modules/evaluate_modules/metrics/evaluate-metric--mean_iou/08bc20f4f895f3caf75fb9e3fada1404bded3c3265243d05327cbb3b9326ffe9/mean_iou.py:260: RuntimeWarning: invalid value encountered in true_divide\n",
            "  acc = total_area_intersect / total_area_label\n",
            "Trainer is attempting to log a value of \"[0.8900333857501875, 0.8343539023991403, 0.0, 0.5461299041690556, 0.5063628950554746]\" of type <class 'list'> for key \"eval/per_category_iou\" as a scalar. This invocation of Tensorboard's writer.add_scalar() is incorrect so we dropped this attribute.\n",
            "Trainer is attempting to log a value of \"[0.9841527309519682, 0.8594169681985389, nan, 0.9979196599616859, 0.5994792733229968]\" of type <class 'list'> for key \"eval/per_category_accuracy\" as a scalar. This invocation of Tensorboard's writer.add_scalar() is incorrect so we dropped this attribute.\n",
            "Saving model checkpoint to regular-segmentation-model/checkpoint-3400\n",
            "Configuration saved in regular-segmentation-model/checkpoint-3400/config.json\n",
            "Model weights saved in regular-segmentation-model/checkpoint-3400/pytorch_model.bin\n",
            "***** Running Evaluation *****\n",
            "  Num examples = 10\n",
            "  Batch size = 1\n",
            "/root/.cache/huggingface/modules/evaluate_modules/metrics/evaluate-metric--mean_iou/08bc20f4f895f3caf75fb9e3fada1404bded3c3265243d05327cbb3b9326ffe9/mean_iou.py:260: RuntimeWarning: invalid value encountered in true_divide\n",
            "  acc = total_area_intersect / total_area_label\n",
            "Trainer is attempting to log a value of \"[0.9011926951077744, 0.8256840259773743, 0.0, 0.5409371447133344, 0.5351634910026355]\" of type <class 'list'> for key \"eval/per_category_iou\" as a scalar. This invocation of Tensorboard's writer.add_scalar() is incorrect so we dropped this attribute.\n",
            "Trainer is attempting to log a value of \"[0.9818249035083685, 0.8669199233612758, nan, 0.996931872605364, 0.6207617821724248]\" of type <class 'list'> for key \"eval/per_category_accuracy\" as a scalar. This invocation of Tensorboard's writer.add_scalar() is incorrect so we dropped this attribute.\n",
            "Saving model checkpoint to regular-segmentation-model/checkpoint-3600\n",
            "Configuration saved in regular-segmentation-model/checkpoint-3600/config.json\n",
            "Model weights saved in regular-segmentation-model/checkpoint-3600/pytorch_model.bin\n",
            "***** Running Evaluation *****\n",
            "  Num examples = 10\n",
            "  Batch size = 1\n",
            "/root/.cache/huggingface/modules/evaluate_modules/metrics/evaluate-metric--mean_iou/08bc20f4f895f3caf75fb9e3fada1404bded3c3265243d05327cbb3b9326ffe9/mean_iou.py:260: RuntimeWarning: invalid value encountered in true_divide\n",
            "  acc = total_area_intersect / total_area_label\n",
            "Trainer is attempting to log a value of \"[0.9016317129742267, 0.8370683663487228, 0.0, 0.5639876286912681, 0.539105468002297]\" of type <class 'list'> for key \"eval/per_category_iou\" as a scalar. This invocation of Tensorboard's writer.add_scalar() is incorrect so we dropped this attribute.\n",
            "Trainer is attempting to log a value of \"[0.9832824489593762, 0.8712000216561544, nan, 0.9961536159003831, 0.6179533686335313]\" of type <class 'list'> for key \"eval/per_category_accuracy\" as a scalar. This invocation of Tensorboard's writer.add_scalar() is incorrect so we dropped this attribute.\n",
            "Saving model checkpoint to regular-segmentation-model/checkpoint-3800\n",
            "Configuration saved in regular-segmentation-model/checkpoint-3800/config.json\n",
            "Model weights saved in regular-segmentation-model/checkpoint-3800/pytorch_model.bin\n",
            "***** Running Evaluation *****\n",
            "  Num examples = 10\n",
            "  Batch size = 1\n",
            "/root/.cache/huggingface/modules/evaluate_modules/metrics/evaluate-metric--mean_iou/08bc20f4f895f3caf75fb9e3fada1404bded3c3265243d05327cbb3b9326ffe9/mean_iou.py:260: RuntimeWarning: invalid value encountered in true_divide\n",
            "  acc = total_area_intersect / total_area_label\n",
            "Trainer is attempting to log a value of \"[0.893268097923836, 0.8302148966940647, 0.0, 0.5570173605596838, 0.4188551497743127]\" of type <class 'list'> for key \"eval/per_category_iou\" as a scalar. This invocation of Tensorboard's writer.add_scalar() is incorrect so we dropped this attribute.\n",
            "Trainer is attempting to log a value of \"[0.983052496400358, 0.8590154270022168, nan, 0.9973808668582376, 0.47778135330427407]\" of type <class 'list'> for key \"eval/per_category_accuracy\" as a scalar. This invocation of Tensorboard's writer.add_scalar() is incorrect so we dropped this attribute.\n",
            "Saving model checkpoint to regular-segmentation-model/checkpoint-4000\n",
            "Configuration saved in regular-segmentation-model/checkpoint-4000/config.json\n",
            "Model weights saved in regular-segmentation-model/checkpoint-4000/pytorch_model.bin\n",
            "***** Running Evaluation *****\n",
            "  Num examples = 10\n",
            "  Batch size = 1\n",
            "/root/.cache/huggingface/modules/evaluate_modules/metrics/evaluate-metric--mean_iou/08bc20f4f895f3caf75fb9e3fada1404bded3c3265243d05327cbb3b9326ffe9/mean_iou.py:260: RuntimeWarning: invalid value encountered in true_divide\n",
            "  acc = total_area_intersect / total_area_label\n",
            "Trainer is attempting to log a value of \"[0.9120993847547884, 0.8354002368778346, 0.0, 0.5463408240007209, 0.5099971204286805]\" of type <class 'list'> for key \"eval/per_category_iou\" as a scalar. This invocation of Tensorboard's writer.add_scalar() is incorrect so we dropped this attribute.\n",
            "Trainer is attempting to log a value of \"[0.982852614560596, 0.8698269613106786, nan, 0.9980842911877394, 0.5958371120147442]\" of type <class 'list'> for key \"eval/per_category_accuracy\" as a scalar. This invocation of Tensorboard's writer.add_scalar() is incorrect so we dropped this attribute.\n",
            "Saving model checkpoint to regular-segmentation-model/checkpoint-4200\n",
            "Configuration saved in regular-segmentation-model/checkpoint-4200/config.json\n",
            "Model weights saved in regular-segmentation-model/checkpoint-4200/pytorch_model.bin\n",
            "***** Running Evaluation *****\n",
            "  Num examples = 10\n",
            "  Batch size = 1\n",
            "/root/.cache/huggingface/modules/evaluate_modules/metrics/evaluate-metric--mean_iou/08bc20f4f895f3caf75fb9e3fada1404bded3c3265243d05327cbb3b9326ffe9/mean_iou.py:260: RuntimeWarning: invalid value encountered in true_divide\n",
            "  acc = total_area_intersect / total_area_label\n",
            "Trainer is attempting to log a value of \"[0.9103344541386044, 0.8380596003619561, 0.0, 0.4895976994630124, 0.5833852419741256]\" of type <class 'list'> for key \"eval/per_category_iou\" as a scalar. This invocation of Tensorboard's writer.add_scalar() is incorrect so we dropped this attribute.\n",
            "Trainer is attempting to log a value of \"[0.9549257607007539, 0.8649468070707345, nan, 0.9988625478927203, 0.7123570195711318]\" of type <class 'list'> for key \"eval/per_category_accuracy\" as a scalar. This invocation of Tensorboard's writer.add_scalar() is incorrect so we dropped this attribute.\n",
            "Saving model checkpoint to regular-segmentation-model/checkpoint-4400\n",
            "Configuration saved in regular-segmentation-model/checkpoint-4400/config.json\n",
            "Model weights saved in regular-segmentation-model/checkpoint-4400/pytorch_model.bin\n",
            "***** Running Evaluation *****\n",
            "  Num examples = 10\n",
            "  Batch size = 1\n",
            "/root/.cache/huggingface/modules/evaluate_modules/metrics/evaluate-metric--mean_iou/08bc20f4f895f3caf75fb9e3fada1404bded3c3265243d05327cbb3b9326ffe9/mean_iou.py:260: RuntimeWarning: invalid value encountered in true_divide\n",
            "  acc = total_area_intersect / total_area_label\n",
            "Trainer is attempting to log a value of \"[0.9135097630091451, 0.839268488918296, 0.0, 0.5233817183209102, 0.5504385107575225]\" of type <class 'list'> for key \"eval/per_category_iou\" as a scalar. This invocation of Tensorboard's writer.add_scalar() is incorrect so we dropped this attribute.\n",
            "Trainer is attempting to log a value of \"[0.9688131263996151, 0.8832161795535824, nan, 0.9983387212643678, 0.6178363514027441]\" of type <class 'list'> for key \"eval/per_category_accuracy\" as a scalar. This invocation of Tensorboard's writer.add_scalar() is incorrect so we dropped this attribute.\n",
            "Saving model checkpoint to regular-segmentation-model/checkpoint-4600\n",
            "Configuration saved in regular-segmentation-model/checkpoint-4600/config.json\n",
            "Model weights saved in regular-segmentation-model/checkpoint-4600/pytorch_model.bin\n",
            "***** Running Evaluation *****\n",
            "  Num examples = 10\n",
            "  Batch size = 1\n",
            "/root/.cache/huggingface/modules/evaluate_modules/metrics/evaluate-metric--mean_iou/08bc20f4f895f3caf75fb9e3fada1404bded3c3265243d05327cbb3b9326ffe9/mean_iou.py:260: RuntimeWarning: invalid value encountered in true_divide\n",
            "  acc = total_area_intersect / total_area_label\n",
            "Trainer is attempting to log a value of \"[0.9169802274831371, 0.8376158192419316, 0.0, 0.5367037069818714, 0.5030699909882848]\" of type <class 'list'> for key \"eval/per_category_iou\" as a scalar. This invocation of Tensorboard's writer.add_scalar() is incorrect so we dropped this attribute.\n",
            "Trainer is attempting to log a value of \"[0.9811244326362822, 0.8654852031317205, nan, 0.9982788553639846, 0.6124096773249861]\" of type <class 'list'> for key \"eval/per_category_accuracy\" as a scalar. This invocation of Tensorboard's writer.add_scalar() is incorrect so we dropped this attribute.\n",
            "Saving model checkpoint to regular-segmentation-model/checkpoint-4800\n",
            "Configuration saved in regular-segmentation-model/checkpoint-4800/config.json\n",
            "Model weights saved in regular-segmentation-model/checkpoint-4800/pytorch_model.bin\n",
            "\n",
            "\n",
            "Training completed. Do not forget to share your model on huggingface.co/models =)\n",
            "\n",
            "\n"
          ]
        },
        {
          "output_type": "execute_result",
          "data": {
            "text/plain": [
              "TrainOutput(global_step=4950, training_loss=0.5270291455105097, metrics={'train_runtime': 27041.1194, 'train_samples_per_second': 0.183, 'train_steps_per_second': 0.183, 'total_flos': 8.76517878398976e+16, 'train_loss': 0.5270291455105097, 'epoch': 5.0})"
            ]
          },
          "metadata": {},
          "execution_count": 19
        }
      ],
      "source": [
        "lr = 3e-4\n",
        "epochs = 5\n",
        "batch_size = 1\n",
        "\n",
        "training_args = TrainingArguments(\n",
        "    \"regular-segmentation-model\",\n",
        "    learning_rate=lr,\n",
        "    num_train_epochs=epochs,\n",
        "    per_device_train_batch_size=batch_size,\n",
        "    per_device_eval_batch_size=batch_size,\n",
        "    evaluation_strategy=\"steps\",\n",
        "    save_steps=200,\n",
        "    eval_steps=200,\n",
        "    logging_steps=20,\n",
        ")\n",
        "\n",
        "trainer = Trainer(\n",
        "    model=model,\n",
        "    args=training_args,\n",
        "    train_dataset=train_ds,\n",
        "    eval_dataset=test_ds,\n",
        "    compute_metrics=compute_metrics,\n",
        ")\n",
        "\n",
        "trainer.train()"
      ]
    },
    {
      "cell_type": "code",
      "source": [
        "extractor.push_to_hub(\"side-walk-segmentation-model\")"
      ],
      "metadata": {
        "id": "1CRL4KzGhXuq",
        "colab": {
          "base_uri": "https://localhost:8080/"
        },
        "outputId": "bb0ffce1-374b-4e9e-c504-5f037363163c"
      },
      "execution_count": null,
      "outputs": [
        {
          "output_type": "stream",
          "name": "stderr",
          "text": [
            "Feature extractor saved in /tmp/tmpkmfa5sz4/preprocessor_config.json\n",
            "Uploading the following files to Kavindu99/side-walk-segmentation-model: preprocessor_config.json\n"
          ]
        },
        {
          "output_type": "execute_result",
          "data": {
            "text/plain": [
              "CommitInfo(commit_url='https://huggingface.co/Kavindu99/side-walk-segmentation-model/commit/f19b565823956d11798194c6b8d359153392b19f', commit_message='Upload feature extractor', commit_description='', oid='f19b565823956d11798194c6b8d359153392b19f', pr_url=None, pr_revision=None, pr_num=None)"
            ]
          },
          "metadata": {},
          "execution_count": 39
        }
      ]
    },
    {
      "cell_type": "code",
      "source": [
        "model.push_to_hub(\"side-walk-segmentation-model\")"
      ],
      "metadata": {
        "id": "ZlN3nE7P6jZA",
        "colab": {
          "base_uri": "https://localhost:8080/"
        },
        "outputId": "881397be-1618-4d87-afb3-27f9440f7e01"
      },
      "execution_count": null,
      "outputs": [
        {
          "output_type": "stream",
          "name": "stderr",
          "text": [
            "Configuration saved in /tmp/tmp8l_udloo/config.json\n",
            "Model weights saved in /tmp/tmp8l_udloo/pytorch_model.bin\n",
            "Uploading the following files to Kavindu99/side-walk-segmentation-model: config.json,pytorch_model.bin\n"
          ]
        },
        {
          "output_type": "execute_result",
          "data": {
            "text/plain": [
              "CommitInfo(commit_url='https://huggingface.co/Kavindu99/side-walk-segmentation-model/commit/b5eb1d754ed639ea64ef773563728eea76162ef9', commit_message='Upload SegformerForSemanticSegmentation', commit_description='', oid='b5eb1d754ed639ea64ef773563728eea76162ef9', pr_url=None, pr_revision=None, pr_num=None)"
            ]
          },
          "metadata": {},
          "execution_count": 40
        }
      ]
    },
    {
      "cell_type": "code",
      "source": [
        "trainer.state.log_history[0:100]"
      ],
      "metadata": {
        "colab": {
          "base_uri": "https://localhost:8080/"
        },
        "id": "l8zPu5Y5U06u",
        "outputId": "934e8372-953f-4f5d-df59-18aa4fa9579b"
      },
      "execution_count": null,
      "outputs": [
        {
          "output_type": "execute_result",
          "data": {
            "text/plain": [
              "[{'loss': 0.9157,\n",
              "  'learning_rate': 0.00029878787878787874,\n",
              "  'epoch': 0.02,\n",
              "  'step': 20},\n",
              " {'loss': 0.984,\n",
              "  'learning_rate': 0.0002975757575757575,\n",
              "  'epoch': 0.04,\n",
              "  'step': 40},\n",
              " {'loss': 0.8119,\n",
              "  'learning_rate': 0.00029636363636363633,\n",
              "  'epoch': 0.06,\n",
              "  'step': 60},\n",
              " {'loss': 0.6893,\n",
              "  'learning_rate': 0.00029515151515151515,\n",
              "  'epoch': 0.08,\n",
              "  'step': 80},\n",
              " {'loss': 0.5791,\n",
              "  'learning_rate': 0.0002939393939393939,\n",
              "  'epoch': 0.1,\n",
              "  'step': 100},\n",
              " {'loss': 0.8719,\n",
              "  'learning_rate': 0.0002927272727272727,\n",
              "  'epoch': 0.12,\n",
              "  'step': 120},\n",
              " {'loss': 1.1658,\n",
              "  'learning_rate': 0.0002915151515151515,\n",
              "  'epoch': 0.14,\n",
              "  'step': 140},\n",
              " {'loss': 1.0335,\n",
              "  'learning_rate': 0.00029030303030303027,\n",
              "  'epoch': 0.16,\n",
              "  'step': 160},\n",
              " {'loss': 0.8193,\n",
              "  'learning_rate': 0.00028909090909090904,\n",
              "  'epoch': 0.18,\n",
              "  'step': 180},\n",
              " {'loss': 0.6987,\n",
              "  'learning_rate': 0.00028787878787878786,\n",
              "  'epoch': 0.2,\n",
              "  'step': 200},\n",
              " {'eval_loss': 0.8643182516098022,\n",
              "  'eval_mean_iou': 0.3378943647332469,\n",
              "  'eval_mean_accuracy': 0.5037638870041524,\n",
              "  'eval_overall_accuracy': 0.8233825526161994,\n",
              "  'eval_per_category_iou': [0.7934663063797772,\n",
              "   0.7266546120590337,\n",
              "   0.0,\n",
              "   0.031206377194915876,\n",
              "   0.13814452803250782],\n",
              "  'eval_per_category_accuracy': [0.9775371727155983,\n",
              "   0.8394692437490413,\n",
              "   nan,\n",
              "   0.05085608237547893,\n",
              "   0.14719304917649123],\n",
              "  'eval_runtime': 32.8174,\n",
              "  'eval_samples_per_second': 0.305,\n",
              "  'eval_steps_per_second': 0.305,\n",
              "  'epoch': 0.2,\n",
              "  'step': 200},\n",
              " {'loss': 0.7326,\n",
              "  'learning_rate': 0.0002866666666666667,\n",
              "  'epoch': 0.22,\n",
              "  'step': 220},\n",
              " {'loss': 0.6065,\n",
              "  'learning_rate': 0.00028545454545454544,\n",
              "  'epoch': 0.24,\n",
              "  'step': 240},\n",
              " {'loss': 0.8018,\n",
              "  'learning_rate': 0.0002842424242424242,\n",
              "  'epoch': 0.26,\n",
              "  'step': 260},\n",
              " {'loss': 0.79,\n",
              "  'learning_rate': 0.000283030303030303,\n",
              "  'epoch': 0.28,\n",
              "  'step': 280},\n",
              " {'loss': 0.9373,\n",
              "  'learning_rate': 0.0002818181818181818,\n",
              "  'epoch': 0.3,\n",
              "  'step': 300},\n",
              " {'loss': 1.1482,\n",
              "  'learning_rate': 0.00028060606060606057,\n",
              "  'epoch': 0.32,\n",
              "  'step': 320},\n",
              " {'loss': 0.7749,\n",
              "  'learning_rate': 0.0002793939393939394,\n",
              "  'epoch': 0.34,\n",
              "  'step': 340},\n",
              " {'loss': 0.59,\n",
              "  'learning_rate': 0.00027818181818181815,\n",
              "  'epoch': 0.36,\n",
              "  'step': 360},\n",
              " {'loss': 0.6891,\n",
              "  'learning_rate': 0.0002769696969696969,\n",
              "  'epoch': 0.38,\n",
              "  'step': 380},\n",
              " {'loss': 0.7756,\n",
              "  'learning_rate': 0.00027575757575757574,\n",
              "  'epoch': 0.4,\n",
              "  'step': 400},\n",
              " {'eval_loss': 1.2556779384613037,\n",
              "  'eval_mean_iou': 0.331114099724598,\n",
              "  'eval_mean_accuracy': 0.491931061211472,\n",
              "  'eval_overall_accuracy': 0.8228750291111967,\n",
              "  'eval_per_category_iou': [0.7801702887631914,\n",
              "   0.7360185503721541,\n",
              "   0.0,\n",
              "   0.0,\n",
              "   0.13938165948764453],\n",
              "  'eval_per_category_accuracy': [0.9937099130779327,\n",
              "   0.8301270193612036,\n",
              "   nan,\n",
              "   0.0,\n",
              "   0.1438873124067519],\n",
              "  'eval_runtime': 33.1118,\n",
              "  'eval_samples_per_second': 0.302,\n",
              "  'eval_steps_per_second': 0.302,\n",
              "  'epoch': 0.4,\n",
              "  'step': 400},\n",
              " {'loss': 0.6093,\n",
              "  'learning_rate': 0.0002745454545454545,\n",
              "  'epoch': 0.42,\n",
              "  'step': 420},\n",
              " {'loss': 0.6418,\n",
              "  'learning_rate': 0.00027333333333333333,\n",
              "  'epoch': 0.44,\n",
              "  'step': 440},\n",
              " {'loss': 1.0508,\n",
              "  'learning_rate': 0.0002721212121212121,\n",
              "  'epoch': 0.46,\n",
              "  'step': 460},\n",
              " {'loss': 0.8446,\n",
              "  'learning_rate': 0.0002709090909090909,\n",
              "  'epoch': 0.48,\n",
              "  'step': 480},\n",
              " {'loss': 0.4704,\n",
              "  'learning_rate': 0.0002696969696969697,\n",
              "  'epoch': 0.51,\n",
              "  'step': 500},\n",
              " {'loss': 0.5245,\n",
              "  'learning_rate': 0.00026848484848484845,\n",
              "  'epoch': 0.53,\n",
              "  'step': 520},\n",
              " {'loss': 0.7196,\n",
              "  'learning_rate': 0.0002672727272727272,\n",
              "  'epoch': 0.55,\n",
              "  'step': 540},\n",
              " {'loss': 0.7407,\n",
              "  'learning_rate': 0.00026606060606060604,\n",
              "  'epoch': 0.57,\n",
              "  'step': 560},\n",
              " {'loss': 0.754,\n",
              "  'learning_rate': 0.00026484848484848486,\n",
              "  'epoch': 0.59,\n",
              "  'step': 580},\n",
              " {'loss': 0.9235,\n",
              "  'learning_rate': 0.0002636363636363636,\n",
              "  'epoch': 0.61,\n",
              "  'step': 600},\n",
              " {'eval_loss': 1.0951744318008423,\n",
              "  'eval_mean_iou': 0.38710751066145455,\n",
              "  'eval_mean_accuracy': 0.6082450570133537,\n",
              "  'eval_overall_accuracy': 0.8412410817208049,\n",
              "  'eval_per_category_iou': [0.7585593403618923,\n",
              "   0.7723089983737963,\n",
              "   0.0,\n",
              "   0.35523225469728603,\n",
              "   0.04943695987429802],\n",
              "  'eval_per_category_accuracy': [0.9864717140663749,\n",
              "   0.8263582469343006,\n",
              "   nan,\n",
              "   0.5704471982758621,\n",
              "   0.04970306877687739],\n",
              "  'eval_runtime': 33.3687,\n",
              "  'eval_samples_per_second': 0.3,\n",
              "  'eval_steps_per_second': 0.3,\n",
              "  'epoch': 0.61,\n",
              "  'step': 600},\n",
              " {'loss': 0.6875,\n",
              "  'learning_rate': 0.0002624242424242424,\n",
              "  'epoch': 0.63,\n",
              "  'step': 620},\n",
              " {'loss': 0.833,\n",
              "  'learning_rate': 0.00026121212121212116,\n",
              "  'epoch': 0.65,\n",
              "  'step': 640},\n",
              " {'loss': 0.7377, 'learning_rate': 0.00026, 'epoch': 0.67, 'step': 660},\n",
              " {'loss': 0.7273,\n",
              "  'learning_rate': 0.00025878787878787874,\n",
              "  'epoch': 0.69,\n",
              "  'step': 680},\n",
              " {'loss': 0.7103,\n",
              "  'learning_rate': 0.00025757575757575756,\n",
              "  'epoch': 0.71,\n",
              "  'step': 700},\n",
              " {'loss': 0.8892,\n",
              "  'learning_rate': 0.00025636363636363633,\n",
              "  'epoch': 0.73,\n",
              "  'step': 720},\n",
              " {'loss': 0.6632,\n",
              "  'learning_rate': 0.00025515151515151515,\n",
              "  'epoch': 0.75,\n",
              "  'step': 740},\n",
              " {'loss': 0.5378,\n",
              "  'learning_rate': 0.0002539393939393939,\n",
              "  'epoch': 0.77,\n",
              "  'step': 760},\n",
              " {'loss': 0.8148,\n",
              "  'learning_rate': 0.0002527272727272727,\n",
              "  'epoch': 0.79,\n",
              "  'step': 780},\n",
              " {'loss': 0.671,\n",
              "  'learning_rate': 0.0002515151515151515,\n",
              "  'epoch': 0.81,\n",
              "  'step': 800},\n",
              " {'eval_loss': 0.7112783789634705,\n",
              "  'eval_mean_iou': 0.46656540160217713,\n",
              "  'eval_mean_accuracy': 0.7295809601919144,\n",
              "  'eval_overall_accuracy': 0.8712281775878206,\n",
              "  'eval_per_category_iou': [0.8160233706395391,\n",
              "   0.8057744754714146,\n",
              "   0.0,\n",
              "   0.5579086163285076,\n",
              "   0.15312054557142457],\n",
              "  'eval_per_category_accuracy': [0.9886987161571743,\n",
              "   0.8384556154107601,\n",
              "   nan,\n",
              "   0.9308997844827587,\n",
              "   0.16026972471696457],\n",
              "  'eval_runtime': 33.1553,\n",
              "  'eval_samples_per_second': 0.302,\n",
              "  'eval_steps_per_second': 0.302,\n",
              "  'epoch': 0.81,\n",
              "  'step': 800},\n",
              " {'loss': 1.2475,\n",
              "  'learning_rate': 0.00025030303030303027,\n",
              "  'epoch': 0.83,\n",
              "  'step': 820},\n",
              " {'loss': 0.9264,\n",
              "  'learning_rate': 0.0002490909090909091,\n",
              "  'epoch': 0.85,\n",
              "  'step': 840},\n",
              " {'loss': 0.9444,\n",
              "  'learning_rate': 0.00024787878787878786,\n",
              "  'epoch': 0.87,\n",
              "  'step': 860},\n",
              " {'loss': 0.7725,\n",
              "  'learning_rate': 0.0002466666666666666,\n",
              "  'epoch': 0.89,\n",
              "  'step': 880},\n",
              " {'loss': 0.7575,\n",
              "  'learning_rate': 0.00024545454545454545,\n",
              "  'epoch': 0.91,\n",
              "  'step': 900},\n",
              " {'loss': 0.8694,\n",
              "  'learning_rate': 0.0002442424242424242,\n",
              "  'epoch': 0.93,\n",
              "  'step': 920},\n",
              " {'loss': 0.7924,\n",
              "  'learning_rate': 0.000243030303030303,\n",
              "  'epoch': 0.95,\n",
              "  'step': 940},\n",
              " {'loss': 0.5329,\n",
              "  'learning_rate': 0.0002418181818181818,\n",
              "  'epoch': 0.97,\n",
              "  'step': 960},\n",
              " {'loss': 0.638,\n",
              "  'learning_rate': 0.00024060606060606057,\n",
              "  'epoch': 0.99,\n",
              "  'step': 980},\n",
              " {'loss': 0.7483,\n",
              "  'learning_rate': 0.0002393939393939394,\n",
              "  'epoch': 1.01,\n",
              "  'step': 1000},\n",
              " {'eval_loss': 0.906402587890625,\n",
              "  'eval_mean_iou': 0.6332557809159354,\n",
              "  'eval_mean_accuracy': 0.8129569999853883,\n",
              "  'eval_overall_accuracy': 0.8703896286509835,\n",
              "  'eval_per_category_iou': [0.8212428123984746,\n",
              "   0.752184404654592,\n",
              "   nan,\n",
              "   0.519067832439837,\n",
              "   0.440528074170838],\n",
              "  'eval_per_category_accuracy': [0.9211050458666912,\n",
              "   0.854593962143839,\n",
              "   nan,\n",
              "   0.9187320402298851,\n",
              "   0.557396951701138],\n",
              "  'eval_runtime': 34.4227,\n",
              "  'eval_samples_per_second': 0.291,\n",
              "  'eval_steps_per_second': 0.291,\n",
              "  'epoch': 1.01,\n",
              "  'step': 1000},\n",
              " {'loss': 0.543,\n",
              "  'learning_rate': 0.00023818181818181816,\n",
              "  'epoch': 1.03,\n",
              "  'step': 1020},\n",
              " {'loss': 0.5494,\n",
              "  'learning_rate': 0.00023696969696969695,\n",
              "  'epoch': 1.05,\n",
              "  'step': 1040},\n",
              " {'loss': 0.4235,\n",
              "  'learning_rate': 0.00023575757575757572,\n",
              "  'epoch': 1.07,\n",
              "  'step': 1060},\n",
              " {'loss': 0.6922,\n",
              "  'learning_rate': 0.00023454545454545454,\n",
              "  'epoch': 1.09,\n",
              "  'step': 1080},\n",
              " {'loss': 0.5452,\n",
              "  'learning_rate': 0.0002333333333333333,\n",
              "  'epoch': 1.11,\n",
              "  'step': 1100},\n",
              " {'loss': 0.7895,\n",
              "  'learning_rate': 0.0002321212121212121,\n",
              "  'epoch': 1.13,\n",
              "  'step': 1120},\n",
              " {'loss': 0.6794,\n",
              "  'learning_rate': 0.00023090909090909086,\n",
              "  'epoch': 1.15,\n",
              "  'step': 1140},\n",
              " {'loss': 0.5174,\n",
              "  'learning_rate': 0.00022969696969696969,\n",
              "  'epoch': 1.17,\n",
              "  'step': 1160},\n",
              " {'loss': 0.7889,\n",
              "  'learning_rate': 0.00022848484848484848,\n",
              "  'epoch': 1.19,\n",
              "  'step': 1180},\n",
              " {'loss': 0.6101,\n",
              "  'learning_rate': 0.00022727272727272725,\n",
              "  'epoch': 1.21,\n",
              "  'step': 1200},\n",
              " {'eval_loss': 0.8160616755485535,\n",
              "  'eval_mean_iou': 0.49917382417460987,\n",
              "  'eval_mean_accuracy': 0.7811936900910504,\n",
              "  'eval_overall_accuracy': 0.8651269101705367,\n",
              "  'eval_per_category_iou': [0.8354035247447487,\n",
              "   0.8032596887249284,\n",
              "   0.0,\n",
              "   0.5748483107744229,\n",
              "   0.2823575966289491],\n",
              "  'eval_per_category_accuracy': [0.9316368730697252,\n",
              "   0.8484385010331791,\n",
              "   nan,\n",
              "   0.9585278975095786,\n",
              "   0.3861714887517187],\n",
              "  'eval_runtime': 33.5501,\n",
              "  'eval_samples_per_second': 0.298,\n",
              "  'eval_steps_per_second': 0.298,\n",
              "  'epoch': 1.21,\n",
              "  'step': 1200},\n",
              " {'loss': 0.6173,\n",
              "  'learning_rate': 0.00022606060606060604,\n",
              "  'epoch': 1.23,\n",
              "  'step': 1220},\n",
              " {'loss': 0.5794,\n",
              "  'learning_rate': 0.00022484848484848483,\n",
              "  'epoch': 1.25,\n",
              "  'step': 1240},\n",
              " {'loss': 0.4948,\n",
              "  'learning_rate': 0.00022363636363636363,\n",
              "  'epoch': 1.27,\n",
              "  'step': 1260},\n",
              " {'loss': 0.5291,\n",
              "  'learning_rate': 0.0002224242424242424,\n",
              "  'epoch': 1.29,\n",
              "  'step': 1280},\n",
              " {'loss': 0.5149,\n",
              "  'learning_rate': 0.0002212121212121212,\n",
              "  'epoch': 1.31,\n",
              "  'step': 1300},\n",
              " {'loss': 0.8048,\n",
              "  'learning_rate': 0.00021999999999999995,\n",
              "  'epoch': 1.33,\n",
              "  'step': 1320},\n",
              " {'loss': 0.4517,\n",
              "  'learning_rate': 0.00021878787878787877,\n",
              "  'epoch': 1.35,\n",
              "  'step': 1340},\n",
              " {'loss': 0.6402,\n",
              "  'learning_rate': 0.00021757575757575757,\n",
              "  'epoch': 1.37,\n",
              "  'step': 1360},\n",
              " {'loss': 0.5113,\n",
              "  'learning_rate': 0.00021636363636363633,\n",
              "  'epoch': 1.39,\n",
              "  'step': 1380},\n",
              " {'loss': 0.6973,\n",
              "  'learning_rate': 0.00021515151515151513,\n",
              "  'epoch': 1.41,\n",
              "  'step': 1400},\n",
              " {'eval_loss': 0.8953798413276672,\n",
              "  'eval_mean_iou': 0.4611433652523239,\n",
              "  'eval_mean_accuracy': 0.6952936953007767,\n",
              "  'eval_overall_accuracy': 0.8730143966768562,\n",
              "  'eval_per_category_iou': [0.8295360268339028,\n",
              "   0.8047378895854945,\n",
              "   0.0,\n",
              "   0.2973295459604819,\n",
              "   0.37411336388174],\n",
              "  'eval_per_category_accuracy': [0.9869050861968323,\n",
              "   0.8586349404004584,\n",
              "   nan,\n",
              "   0.49974556992337166,\n",
              "   0.4358891846824445],\n",
              "  'eval_runtime': 34.0031,\n",
              "  'eval_samples_per_second': 0.294,\n",
              "  'eval_steps_per_second': 0.294,\n",
              "  'epoch': 1.41,\n",
              "  'step': 1400},\n",
              " {'loss': 0.8107,\n",
              "  'learning_rate': 0.00021393939393939392,\n",
              "  'epoch': 1.43,\n",
              "  'step': 1420},\n",
              " {'loss': 0.43,\n",
              "  'learning_rate': 0.00021272727272727272,\n",
              "  'epoch': 1.45,\n",
              "  'step': 1440},\n",
              " {'loss': 0.6695,\n",
              "  'learning_rate': 0.00021151515151515148,\n",
              "  'epoch': 1.47,\n",
              "  'step': 1460},\n",
              " {'loss': 0.5069,\n",
              "  'learning_rate': 0.00021030303030303028,\n",
              "  'epoch': 1.49,\n",
              "  'step': 1480},\n",
              " {'loss': 0.5772,\n",
              "  'learning_rate': 0.0002090909090909091,\n",
              "  'epoch': 1.52,\n",
              "  'step': 1500},\n",
              " {'loss': 0.6483,\n",
              "  'learning_rate': 0.00020787878787878786,\n",
              "  'epoch': 1.54,\n",
              "  'step': 1520},\n",
              " {'loss': 0.4783,\n",
              "  'learning_rate': 0.00020666666666666666,\n",
              "  'epoch': 1.56,\n",
              "  'step': 1540},\n",
              " {'loss': 0.4455,\n",
              "  'learning_rate': 0.00020545454545454542,\n",
              "  'epoch': 1.58,\n",
              "  'step': 1560},\n",
              " {'loss': 0.6545,\n",
              "  'learning_rate': 0.00020424242424242425,\n",
              "  'epoch': 1.6,\n",
              "  'step': 1580},\n",
              " {'loss': 0.5669,\n",
              "  'learning_rate': 0.000203030303030303,\n",
              "  'epoch': 1.62,\n",
              "  'step': 1600},\n",
              " {'eval_loss': 0.7958365678787231,\n",
              "  'eval_mean_iou': 0.5887790094935756,\n",
              "  'eval_mean_accuracy': 0.7544385990604306,\n",
              "  'eval_overall_accuracy': 0.8732194566788775,\n",
              "  'eval_per_category_iou': [0.8792663910677572,\n",
              "   0.756491300055136,\n",
              "   nan,\n",
              "   0.3208179530971664,\n",
              "   0.39854039375424305],\n",
              "  'eval_per_category_accuracy': [0.9206203766269143,\n",
              "   0.8872706929067071,\n",
              "   nan,\n",
              "   0.5229136733716475,\n",
              "   0.6869496533364537],\n",
              "  'eval_runtime': 33.5561,\n",
              "  'eval_samples_per_second': 0.298,\n",
              "  'eval_steps_per_second': 0.298,\n",
              "  'epoch': 1.62,\n",
              "  'step': 1600},\n",
              " {'loss': 0.9538,\n",
              "  'learning_rate': 0.0002018181818181818,\n",
              "  'epoch': 1.64,\n",
              "  'step': 1620},\n",
              " {'loss': 0.4551,\n",
              "  'learning_rate': 0.00020060606060606057,\n",
              "  'epoch': 1.66,\n",
              "  'step': 1640},\n",
              " {'loss': 0.8052,\n",
              "  'learning_rate': 0.00019939393939393937,\n",
              "  'epoch': 1.68,\n",
              "  'step': 1660},\n",
              " {'loss': 0.7604,\n",
              "  'learning_rate': 0.0001981818181818182,\n",
              "  'epoch': 1.7,\n",
              "  'step': 1680},\n",
              " {'loss': 0.6093,\n",
              "  'learning_rate': 0.00019696969696969695,\n",
              "  'epoch': 1.72,\n",
              "  'step': 1700},\n",
              " {'loss': 0.5408,\n",
              "  'learning_rate': 0.00019575757575757575,\n",
              "  'epoch': 1.74,\n",
              "  'step': 1720},\n",
              " {'loss': 0.5769,\n",
              "  'learning_rate': 0.00019454545454545451,\n",
              "  'epoch': 1.76,\n",
              "  'step': 1740},\n",
              " {'loss': 0.9055,\n",
              "  'learning_rate': 0.00019333333333333333,\n",
              "  'epoch': 1.78,\n",
              "  'step': 1760},\n",
              " {'loss': 0.6356,\n",
              "  'learning_rate': 0.0001921212121212121,\n",
              "  'epoch': 1.8,\n",
              "  'step': 1780},\n",
              " {'loss': 0.6883,\n",
              "  'learning_rate': 0.0001909090909090909,\n",
              "  'epoch': 1.82,\n",
              "  'step': 1800},\n",
              " {'eval_loss': 0.8819519877433777,\n",
              "  'eval_mean_iou': 0.5027996420751564,\n",
              "  'eval_mean_accuracy': 0.8161411678852845,\n",
              "  'eval_overall_accuracy': 0.8719173256660422,\n",
              "  'eval_per_category_iou': [0.8546888612528015,\n",
              "   0.8126761040081907,\n",
              "   0.0,\n",
              "   0.43135702138155757,\n",
              "   0.4152762237332317],\n",
              "  'eval_per_category_accuracy': [0.90931732391825,\n",
              "   0.8666477175315593,\n",
              "   nan,\n",
              "   0.9945821360153256,\n",
              "   0.4940174940760027],\n",
              "  'eval_runtime': 33.8092,\n",
              "  'eval_samples_per_second': 0.296,\n",
              "  'eval_steps_per_second': 0.296,\n",
              "  'epoch': 1.82,\n",
              "  'step': 1800},\n",
              " {'loss': 0.5322,\n",
              "  'learning_rate': 0.00018969696969696966,\n",
              "  'epoch': 1.84,\n",
              "  'step': 1820}]"
            ]
          },
          "metadata": {},
          "execution_count": 33
        }
      ]
    },
    {
      "cell_type": "code",
      "source": [
        "loss =[]\n",
        "eval_loss = []\n",
        "eval_mean_iou=[]\n",
        "epochs = np.arange(200,4950,200)\n",
        "for j in epochs:\n",
        "  loss.append([d['loss'] for d in trainer.state.log_history if (d['step']==j and ('loss' in d))])\n",
        "  eval_loss.append([d['eval_loss'] for d in trainer.state.log_history if (d['step']==j and ('eval_loss' in d))])\n",
        "  eval_mean_iou.append([d['eval_mean_iou'] for d in trainer.state.log_history if (d['step']==j and ('eval_mean_iou' in d))])\n",
        "loss, eval_loss,eval_mean_iou, len(loss)"
      ],
      "metadata": {
        "id": "WyzF4IsJgNDQ",
        "colab": {
          "base_uri": "https://localhost:8080/"
        },
        "outputId": "1ae62cdf-08fb-4b71-cbd6-0c53fef69931"
      },
      "execution_count": null,
      "outputs": [
        {
          "output_type": "execute_result",
          "data": {
            "text/plain": [
              "([[0.6987],\n",
              "  [0.7756],\n",
              "  [0.9235],\n",
              "  [0.671],\n",
              "  [0.7483],\n",
              "  [0.6101],\n",
              "  [0.6973],\n",
              "  [0.5669],\n",
              "  [0.6883],\n",
              "  [0.6994],\n",
              "  [0.5675],\n",
              "  [0.6499],\n",
              "  [0.423],\n",
              "  [0.4207],\n",
              "  [0.6619],\n",
              "  [0.6019],\n",
              "  [0.357],\n",
              "  [0.2642],\n",
              "  [0.3333],\n",
              "  [0.3526],\n",
              "  [0.3199],\n",
              "  [0.2629],\n",
              "  [0.2215],\n",
              "  [0.259]],\n",
              " [[0.8643182516098022],\n",
              "  [1.2556779384613037],\n",
              "  [1.0951744318008423],\n",
              "  [0.7112783789634705],\n",
              "  [0.906402587890625],\n",
              "  [0.8160616755485535],\n",
              "  [0.8953798413276672],\n",
              "  [0.7958365678787231],\n",
              "  [0.8819519877433777],\n",
              "  [0.7960419654846191],\n",
              "  [0.7849942445755005],\n",
              "  [0.8290799856185913],\n",
              "  [0.7535120844841003],\n",
              "  [0.8346174955368042],\n",
              "  [0.923154354095459],\n",
              "  [0.7316225171089172],\n",
              "  [0.7960082292556763],\n",
              "  [0.6598657369613647],\n",
              "  [0.7902306318283081],\n",
              "  [0.7917677164077759],\n",
              "  [0.6683431267738342],\n",
              "  [0.6939023733139038],\n",
              "  [0.6780873537063599],\n",
              "  [0.7201505899429321]],\n",
              " [[0.3378943647332469],\n",
              "  [0.331114099724598],\n",
              "  [0.38710751066145455],\n",
              "  [0.46656540160217713],\n",
              "  [0.6332557809159354],\n",
              "  [0.49917382417460987],\n",
              "  [0.4611433652523239],\n",
              "  [0.5887790094935756],\n",
              "  [0.5027996420751564],\n",
              "  [0.49791731273195267],\n",
              "  [0.5523614016494672],\n",
              "  [0.5186004041388548],\n",
              "  [0.5741106132815121],\n",
              "  [0.5747546064082385],\n",
              "  [0.49991140954943275],\n",
              "  [0.5959889568820932],\n",
              "  [0.5553760174747715],\n",
              "  [0.5605954713602237],\n",
              "  [0.568358635203303],\n",
              "  [0.5398711009903794],\n",
              "  [0.5607675132124049],\n",
              "  [0.5642753991875397],\n",
              "  [0.5653196962011748],\n",
              "  [0.558873948939045]],\n",
              " 24)"
            ]
          },
          "metadata": {},
          "execution_count": 35
        }
      ]
    },
    {
      "cell_type": "code",
      "source": [
        "import matplotlib.pyplot as plt\n",
        "plt.plot(range(24), loss, label = 'training_loss')\n",
        "plt.plot(range(24), eval_loss, label = 'evaluation_loss')\n",
        "plt.xlabel('epochs')\n",
        "plt.ylabel('loss')\n",
        "plt.legend()\n",
        "plt.title(\"Loss Plot\")\n",
        "plt.plot()"
      ],
      "metadata": {
        "colab": {
          "base_uri": "https://localhost:8080/",
          "height": 312
        },
        "id": "oeuCv9O8ZPRl",
        "outputId": "b41002ad-3acd-44b1-898b-aa3f0b9f1ae2"
      },
      "execution_count": null,
      "outputs": [
        {
          "output_type": "execute_result",
          "data": {
            "text/plain": [
              "[]"
            ]
          },
          "metadata": {},
          "execution_count": 40
        },
        {
          "output_type": "display_data",
          "data": {
            "text/plain": [
              "<Figure size 432x288 with 1 Axes>"
            ],
            "image/png": "[encoded data removed]"
          },
          "metadata": {
            "needs_background": "light"
          }
        }
      ]
    },
    {
      "cell_type": "code",
      "source": [
        "plt.plot(range(24), eval_mean_iou)\n",
        "plt.xlabel('epochs')\n",
        "plt.ylabel('mean_iou')\n",
        "plt.title(\"IoU Plot\")\n",
        "plt.plot()"
      ],
      "metadata": {
        "colab": {
          "base_uri": "https://localhost:8080/",
          "height": 312
        },
        "id": "D2ohKwvKZuF_",
        "outputId": "a2d66640-11c7-4dfb-bf21-8ec7beefe454"
      },
      "execution_count": null,
      "outputs": [
        {
          "output_type": "execute_result",
          "data": {
            "text/plain": [
              "[]"
            ]
          },
          "metadata": {},
          "execution_count": 41
        },
        {
          "output_type": "display_data",
          "data": {
            "text/plain": [
              "<Figure size 432x288 with 1 Axes>"
            ],
            "image/png": "[encoded data removed]"
          },
          "metadata": {
            "needs_background": "light"
          }
        }
      ]
    },
    {
      "cell_type": "code",
      "execution_count": null,
      "metadata": {
        "id": "zVq6jN8T6FjA"
      },
      "outputs": [],
      "source": [
        "import matplotlib.pyplot as plt\n",
        "\n",
        "def classify(im):\n",
        "  inputs = extractor(images=im, return_tensors=\"pt\").to(\"cuda\")\n",
        "  outputs = model(**inputs)\n",
        "  logits = outputs.logits\n",
        "  classes = logits[0].detach().cpu().numpy().argmax(axis=0)\n",
        "  colors = np.array([[128,0,0], [128,128,0], [0, 0, 128], \t[128,0,128], [0, 0, 0]])\n",
        "  return colors[classes]"
      ]
    },
    {
      "cell_type": "code",
      "execution_count": null,
      "metadata": {
        "collapsed": true,
        "id": "7ZKC4HEADGAG",
        "colab": {
          "base_uri": "https://localhost:8080/",
          "height": 660
        },
        "outputId": "7d609ec4-2678-4248-ef42-f16f0a72c090"
      },
      "outputs": [
        {
          "output_type": "stream",
          "name": "stdout",
          "text": [
            "Colab notebook detected. This cell will run indefinitely so that you can see errors and logs. To turn off, set debug=False in launch().\n",
            "Running on public URL: https://16890.gradio.app\n",
            "\n",
            "This share link expires in 72 hours. For free permanent hosting, check out Spaces: https://huggingface.co/spaces\n"
          ]
        },
        {
          "output_type": "display_data",
          "data": {
            "text/plain": [
              "<IPython.core.display.HTML object>"
            ],
            "text/html": [
              "<div><iframe src=\"https://16890.gradio.app\" width=\"900\" height=\"500\" allow=\"autoplay; camera; microphone; clipboard-read; clipboard-write;\" frameborder=\"0\" allowfullscreen></iframe></div>"
            ]
          },
          "metadata": {}
        },
        {
          "output_type": "stream",
          "name": "stdout",
          "text": [
            "Keyboard interruption in main thread... closing server.\n"
          ]
        },
        {
          "output_type": "execute_result",
          "data": {
            "text/plain": [
              "(<gradio.routes.App at 0x7f7b5711a110>,\n",
              " 'http://127.0.0.1:7860/',\n",
              " 'https://16890.gradio.app')"
            ]
          },
          "metadata": {},
          "execution_count": 43
        }
      ],
      "source": [
        "import gradio as gr\n",
        "\n",
        "interface = gr.Interface(fn=classify,\n",
        "                         inputs='image',\n",
        "                         outputs='image')\n",
        "\n",
        "interface.launch(debug=True)"
      ]
    }
  ],
  "metadata": {
    "accelerator": "GPU",
    "colab": {
      "collapsed_sections": [],
      "machine_shape": "hm",
      "provenance": []
    },
    "gpuClass": "standard",
    "kernelspec": {
      "display_name": "Python 3",
      "name": "python3"
    },
    "language_info": {
      "name": "python"
    },
    "widgets": {
      "application/vnd.jupyter.widget-state+json": {
        "5b6f08f4f0074ec997c335865bf98f90": {
          "model_module": "@jupyter-widgets/controls",
          "model_name": "VBoxModel",
          "model_module_version": "1.5.0",
          "state": {
            "_dom_classes": [],
            "_model_module": "@jupyter-widgets/controls",
            "_model_module_version": "1.5.0",
            "_model_name": "VBoxModel",
            "_view_count": null,
            "_view_module": "@jupyter-widgets/controls",
            "_view_module_version": "1.5.0",
            "_view_name": "VBoxView",
            "box_style": "",
            "children": [
              "IPY_MODEL_3a576dbd73234f858750030032b3158d",
              "IPY_MODEL_df63122696ae45558b00bc3950d5099b",
              "IPY_MODEL_b6020fe8582b45b6842deedee47eb145",
              "IPY_MODEL_b9fd972741ce4d46afaa07f5402f2d9f"
            ],
            "layout": "IPY_MODEL_f66c06adb8ef4333bfcf2e198584ca76"
          }
        },
        "3a576dbd73234f858750030032b3158d": {
          "model_module": "@jupyter-widgets/controls",
          "model_name": "HTMLModel",
          "model_module_version": "1.5.0",
          "state": {
            "_dom_classes": [],
            "_model_module": "@jupyter-widgets/controls",
            "_model_module_version": "1.5.0",
            "_model_name": "HTMLModel",
            "_view_count": null,
            "_view_module": "@jupyter-widgets/controls",
            "_view_module_version": "1.5.0",
            "_view_name": "HTMLView",
            "description": "",
            "description_tooltip": null,
            "layout": "IPY_MODEL_c65dca51021a42c298d1cf5ffaaae515",
            "placeholder": "​",
            "style": "IPY_MODEL_dbf8a43e8aaf4bab9ad0f3378416087e",
            "value": "<center> <img\nsrc=https://huggingface.co/front/assets/huggingface_logo-noborder.svg\nalt='Hugging Face'> <br> Copy a token from <a\nhref=\"https://huggingface.co/settings/tokens\" target=\"_blank\">your Hugging Face\ntokens page</a> and paste it below. <br> Immediately click login after copying\nyour token or it might be stored in plain text in this notebook file. </center>"
          }
        },
        "df63122696ae45558b00bc3950d5099b": {
          "model_module": "@jupyter-widgets/controls",
          "model_name": "PasswordModel",
          "model_module_version": "1.5.0",
          "state": {
            "_dom_classes": [],
            "_model_module": "@jupyter-widgets/controls",
            "_model_module_version": "1.5.0",
            "_model_name": "PasswordModel",
            "_view_count": null,
            "_view_module": "@jupyter-widgets/controls",
            "_view_module_version": "1.5.0",
            "_view_name": "PasswordView",
            "continuous_update": true,
            "description": "Token:",
            "description_tooltip": null,
            "disabled": false,
            "layout": "IPY_MODEL_bff694ed8c1e4bd687abc10e4193e13a",
            "placeholder": "​",
            "style": "IPY_MODEL_e39926caf8f04006b47ea80dba5a92e1",
            "value": ""
          }
        },
        "b6020fe8582b45b6842deedee47eb145": {
          "model_module": "@jupyter-widgets/controls",
          "model_name": "ButtonModel",
          "model_module_version": "1.5.0",
          "state": {
            "_dom_classes": [],
            "_model_module": "@jupyter-widgets/controls",
            "_model_module_version": "1.5.0",
            "_model_name": "ButtonModel",
            "_view_count": null,
            "_view_module": "@jupyter-widgets/controls",
            "_view_module_version": "1.5.0",
            "_view_name": "ButtonView",
            "button_style": "",
            "description": "Login",
            "disabled": false,
            "icon": "",
            "layout": "IPY_MODEL_4ccb9529cf3743fd81193636f4dc929e",
            "style": "IPY_MODEL_63e5a5fb46714de7a64943156ad33aed",
            "tooltip": ""
          }
        },
        "b9fd972741ce4d46afaa07f5402f2d9f": {
          "model_module": "@jupyter-widgets/controls",
          "model_name": "HTMLModel",
          "model_module_version": "1.5.0",
          "state": {
            "_dom_classes": [],
            "_model_module": "@jupyter-widgets/controls",
            "_model_module_version": "1.5.0",
            "_model_name": "HTMLModel",
            "_view_count": null,
            "_view_module": "@jupyter-widgets/controls",
            "_view_module_version": "1.5.0",
            "_view_name": "HTMLView",
            "description": "",
            "description_tooltip": null,
            "layout": "IPY_MODEL_a88c154b75424811be549558a9d85e2c",
            "placeholder": "​",
            "style": "IPY_MODEL_970c9212855e46a1b3b87ec18cf52a03",
            "value": "\n<b>Pro Tip:</b> If you don't already have one, you can create a dedicated\n'notebooks' token with 'write' access, that you can then easily reuse for all\nnotebooks. </center>"
          }
        },
        "f66c06adb8ef4333bfcf2e198584ca76": {
          "model_module": "@jupyter-widgets/base",
          "model_name": "LayoutModel",
          "model_module_version": "1.2.0",
          "state": {
            "_model_module": "@jupyter-widgets/base",
            "_model_module_version": "1.2.0",
            "_model_name": "LayoutModel",
            "_view_count": null,
            "_view_module": "@jupyter-widgets/base",
            "_view_module_version": "1.2.0",
            "_view_name": "LayoutView",
            "align_content": null,
            "align_items": "center",
            "align_self": null,
            "border": null,
            "bottom": null,
            "display": "flex",
            "flex": null,
            "flex_flow": "column",
            "grid_area": null,
            "grid_auto_columns": null,
            "grid_auto_flow": null,
            "grid_auto_rows": null,
            "grid_column": null,
            "grid_gap": null,
            "grid_row": null,
            "grid_template_areas": null,
            "grid_template_columns": null,
            "grid_template_rows": null,
            "height": null,
            "justify_content": null,
            "justify_items": null,
            "left": null,
            "margin": null,
            "max_height": null,
            "max_width": null,
            "min_height": null,
            "min_width": null,
            "object_fit": null,
            "object_position": null,
            "order": null,
            "overflow": null,
            "overflow_x": null,
            "overflow_y": null,
            "padding": null,
            "right": null,
            "top": null,
            "visibility": null,
            "width": "50%"
          }
        },
        "c65dca51021a42c298d1cf5ffaaae515": {
          "model_module": "@jupyter-widgets/base",
          "model_name": "LayoutModel",
          "model_module_version": "1.2.0",
          "state": {
            "_model_module": "@jupyter-widgets/base",
            "_model_module_version": "1.2.0",
            "_model_name": "LayoutModel",
            "_view_count": null,
            "_view_module": "@jupyter-widgets/base",
            "_view_module_version": "1.2.0",
            "_view_name": "LayoutView",
            "align_content": null,
            "align_items": null,
            "align_self": null,
            "border": null,
            "bottom": null,
            "display": null,
            "flex": null,
            "flex_flow": null,
            "grid_area": null,
            "grid_auto_columns": null,
            "grid_auto_flow": null,
            "grid_auto_rows": null,
            "grid_column": null,
            "grid_gap": null,
            "grid_row": null,
            "grid_template_areas": null,
            "grid_template_columns": null,
            "grid_template_rows": null,
            "height": null,
            "justify_content": null,
            "justify_items": null,
            "left": null,
            "margin": null,
            "max_height": null,
            "max_width": null,
            "min_height": null,
            "min_width": null,
            "object_fit": null,
            "object_position": null,
            "order": null,
            "overflow": null,
            "overflow_x": null,
            "overflow_y": null,
            "padding": null,
            "right": null,
            "top": null,
            "visibility": null,
            "width": null
          }
        },
        "dbf8a43e8aaf4bab9ad0f3378416087e": {
          "model_module": "@jupyter-widgets/controls",
          "model_name": "DescriptionStyleModel",
          "model_module_version": "1.5.0",
          "state": {
            "_model_module": "@jupyter-widgets/controls",
            "_model_module_version": "1.5.0",
            "_model_name": "DescriptionStyleModel",
            "_view_count": null,
            "_view_module": "@jupyter-widgets/base",
            "_view_module_version": "1.2.0",
            "_view_name": "StyleView",
            "description_width": ""
          }
        },
        "bff694ed8c1e4bd687abc10e4193e13a": {
          "model_module": "@jupyter-widgets/base",
          "model_name": "LayoutModel",
          "model_module_version": "1.2.0",
          "state": {
            "_model_module": "@jupyter-widgets/base",
            "_model_module_version": "1.2.0",
            "_model_name": "LayoutModel",
            "_view_count": null,
            "_view_module": "@jupyter-widgets/base",
            "_view_module_version": "1.2.0",
            "_view_name": "LayoutView",
            "align_content": null,
            "align_items": null,
            "align_self": null,
            "border": null,
            "bottom": null,
            "display": null,
            "flex": null,
            "flex_flow": null,
            "grid_area": null,
            "grid_auto_columns": null,
            "grid_auto_flow": null,
            "grid_auto_rows": null,
            "grid_column": null,
            "grid_gap": null,
            "grid_row": null,
            "grid_template_areas": null,
            "grid_template_columns": null,
            "grid_template_rows": null,
            "height": null,
            "justify_content": null,
            "justify_items": null,
            "left": null,
            "margin": null,
            "max_height": null,
            "max_width": null,
            "min_height": null,
            "min_width": null,
            "object_fit": null,
            "object_position": null,
            "order": null,
            "overflow": null,
            "overflow_x": null,
            "overflow_y": null,
            "padding": null,
            "right": null,
            "top": null,
            "visibility": null,
            "width": null
          }
        },
        "e39926caf8f04006b47ea80dba5a92e1": {
          "model_module": "@jupyter-widgets/controls",
          "model_name": "DescriptionStyleModel",
          "model_module_version": "1.5.0",
          "state": {
            "_model_module": "@jupyter-widgets/controls",
            "_model_module_version": "1.5.0",
            "_model_name": "DescriptionStyleModel",
            "_view_count": null,
            "_view_module": "@jupyter-widgets/base",
            "_view_module_version": "1.2.0",
            "_view_name": "StyleView",
            "description_width": ""
          }
        },
        "4ccb9529cf3743fd81193636f4dc929e": {
          "model_module": "@jupyter-widgets/base",
          "model_name": "LayoutModel",
          "model_module_version": "1.2.0",
          "state": {
            "_model_module": "@jupyter-widgets/base",
            "_model_module_version": "1.2.0",
            "_model_name": "LayoutModel",
            "_view_count": null,
            "_view_module": "@jupyter-widgets/base",
            "_view_module_version": "1.2.0",
            "_view_name": "LayoutView",
            "align_content": null,
            "align_items": null,
            "align_self": null,
            "border": null,
            "bottom": null,
            "display": null,
            "flex": null,
            "flex_flow": null,
            "grid_area": null,
            "grid_auto_columns": null,
            "grid_auto_flow": null,
            "grid_auto_rows": null,
            "grid_column": null,
            "grid_gap": null,
            "grid_row": null,
            "grid_template_areas": null,
            "grid_template_columns": null,
            "grid_template_rows": null,
            "height": null,
            "justify_content": null,
            "justify_items": null,
            "left": null,
            "margin": null,
            "max_height": null,
            "max_width": null,
            "min_height": null,
            "min_width": null,
            "object_fit": null,
            "object_position": null,
            "order": null,
            "overflow": null,
            "overflow_x": null,
            "overflow_y": null,
            "padding": null,
            "right": null,
            "top": null,
            "visibility": null,
            "width": null
          }
        },
        "63e5a5fb46714de7a64943156ad33aed": {
          "model_module": "@jupyter-widgets/controls",
          "model_name": "ButtonStyleModel",
          "model_module_version": "1.5.0",
          "state": {
            "_model_module": "@jupyter-widgets/controls",
            "_model_module_version": "1.5.0",
            "_model_name": "ButtonStyleModel",
            "_view_count": null,
            "_view_module": "@jupyter-widgets/base",
            "_view_module_version": "1.2.0",
            "_view_name": "StyleView",
            "button_color": null,
            "font_weight": ""
          }
        },
        "a88c154b75424811be549558a9d85e2c": {
          "model_module": "@jupyter-widgets/base",
          "model_name": "LayoutModel",
          "model_module_version": "1.2.0",
          "state": {
            "_model_module": "@jupyter-widgets/base",
            "_model_module_version": "1.2.0",
            "_model_name": "LayoutModel",
            "_view_count": null,
            "_view_module": "@jupyter-widgets/base",
            "_view_module_version": "1.2.0",
            "_view_name": "LayoutView",
            "align_content": null,
            "align_items": null,
            "align_self": null,
            "border": null,
            "bottom": null,
            "display": null,
            "flex": null,
            "flex_flow": null,
            "grid_area": null,
            "grid_auto_columns": null,
            "grid_auto_flow": null,
            "grid_auto_rows": null,
            "grid_column": null,
            "grid_gap": null,
            "grid_row": null,
            "grid_template_areas": null,
            "grid_template_columns": null,
            "grid_template_rows": null,
            "height": null,
            "justify_content": null,
            "justify_items": null,
            "left": null,
            "margin": null,
            "max_height": null,
            "max_width": null,
            "min_height": null,
            "min_width": null,
            "object_fit": null,
            "object_position": null,
            "order": null,
            "overflow": null,
            "overflow_x": null,
            "overflow_y": null,
            "padding": null,
            "right": null,
            "top": null,
            "visibility": null,
            "width": null
          }
        },
        "970c9212855e46a1b3b87ec18cf52a03": {
          "model_module": "@jupyter-widgets/controls",
          "model_name": "DescriptionStyleModel",
          "model_module_version": "1.5.0",
          "state": {
            "_model_module": "@jupyter-widgets/controls",
            "_model_module_version": "1.5.0",
            "_model_name": "DescriptionStyleModel",
            "_view_count": null,
            "_view_module": "@jupyter-widgets/base",
            "_view_module_version": "1.2.0",
            "_view_name": "StyleView",
            "description_width": ""
          }
        },
        "50a5c720bafc489f82daf46c102cddd3": {
          "model_module": "@jupyter-widgets/controls",
          "model_name": "HBoxModel",
          "model_module_version": "1.5.0",
          "state": {
            "_dom_classes": [],
            "_model_module": "@jupyter-widgets/controls",
            "_model_module_version": "1.5.0",
            "_model_name": "HBoxModel",
            "_view_count": null,
            "_view_module": "@jupyter-widgets/controls",
            "_view_module_version": "1.5.0",
            "_view_name": "HBoxView",
            "box_style": "",
            "children": [
              "IPY_MODEL_2abaa594dc334a0faa472e86e6df9df3",
              "IPY_MODEL_ce4baf36db3943b1aa95bfdaa6fc8ca9",
              "IPY_MODEL_f28526582d044f84bd62d044719aa7e6"
            ],
            "layout": "IPY_MODEL_131135190f1945aaa5afbfbcc83270b9"
          }
        },
        "2abaa594dc334a0faa472e86e6df9df3": {
          "model_module": "@jupyter-widgets/controls",
          "model_name": "HTMLModel",
          "model_module_version": "1.5.0",
          "state": {
            "_dom_classes": [],
            "_model_module": "@jupyter-widgets/controls",
            "_model_module_version": "1.5.0",
            "_model_name": "HTMLModel",
            "_view_count": null,
            "_view_module": "@jupyter-widgets/controls",
            "_view_module_version": "1.5.0",
            "_view_name": "HTMLView",
            "description": "",
            "description_tooltip": null,
            "layout": "IPY_MODEL_9f3bd0486c154549a616474e634d9534",
            "placeholder": "​",
            "style": "IPY_MODEL_fdc274f0c2634dc6912df39a0602b1ee",
            "value": ""
          }
        },
        "ce4baf36db3943b1aa95bfdaa6fc8ca9": {
          "model_module": "@jupyter-widgets/controls",
          "model_name": "FloatProgressModel",
          "model_module_version": "1.5.0",
          "state": {
            "_dom_classes": [],
            "_model_module": "@jupyter-widgets/controls",
            "_model_module_version": "1.5.0",
            "_model_name": "FloatProgressModel",
            "_view_count": null,
            "_view_module": "@jupyter-widgets/controls",
            "_view_module_version": "1.5.0",
            "_view_name": "ProgressView",
            "bar_style": "success",
            "description": "",
            "description_tooltip": null,
            "layout": "IPY_MODEL_e4a3c9b0f51c4d09840b075d103902e9",
            "max": 1,
            "min": 0,
            "orientation": "horizontal",
            "style": "IPY_MODEL_21054e80c575487cbb77a4daf0f1babd",
            "value": 0
          }
        },
        "f28526582d044f84bd62d044719aa7e6": {
          "model_module": "@jupyter-widgets/controls",
          "model_name": "HTMLModel",
          "model_module_version": "1.5.0",
          "state": {
            "_dom_classes": [],
            "_model_module": "@jupyter-widgets/controls",
            "_model_module_version": "1.5.0",
            "_model_name": "HTMLModel",
            "_view_count": null,
            "_view_module": "@jupyter-widgets/controls",
            "_view_module_version": "1.5.0",
            "_view_name": "HTMLView",
            "description": "",
            "description_tooltip": null,
            "layout": "IPY_MODEL_1230db6ad88f44fa8ffd4d04cc191c96",
            "placeholder": "​",
            "style": "IPY_MODEL_54b403dd57304e7e9c6295629824c74c",
            "value": " 0/0 [00:00&lt;?, ?it/s]"
          }
        },
        "131135190f1945aaa5afbfbcc83270b9": {
          "model_module": "@jupyter-widgets/base",
          "model_name": "LayoutModel",
          "model_module_version": "1.2.0",
          "state": {
            "_model_module": "@jupyter-widgets/base",
            "_model_module_version": "1.2.0",
            "_model_name": "LayoutModel",
            "_view_count": null,
            "_view_module": "@jupyter-widgets/base",
            "_view_module_version": "1.2.0",
            "_view_name": "LayoutView",
            "align_content": null,
            "align_items": null,
            "align_self": null,
            "border": null,
            "bottom": null,
            "display": null,
            "flex": null,
            "flex_flow": null,
            "grid_area": null,
            "grid_auto_columns": null,
            "grid_auto_flow": null,
            "grid_auto_rows": null,
            "grid_column": null,
            "grid_gap": null,
            "grid_row": null,
            "grid_template_areas": null,
            "grid_template_columns": null,
            "grid_template_rows": null,
            "height": null,
            "justify_content": null,
            "justify_items": null,
            "left": null,
            "margin": null,
            "max_height": null,
            "max_width": null,
            "min_height": null,
            "min_width": null,
            "object_fit": null,
            "object_position": null,
            "order": null,
            "overflow": null,
            "overflow_x": null,
            "overflow_y": null,
            "padding": null,
            "right": null,
            "top": null,
            "visibility": null,
            "width": null
          }
        },
        "9f3bd0486c154549a616474e634d9534": {
          "model_module": "@jupyter-widgets/base",
          "model_name": "LayoutModel",
          "model_module_version": "1.2.0",
          "state": {
            "_model_module": "@jupyter-widgets/base",
            "_model_module_version": "1.2.0",
            "_model_name": "LayoutModel",
            "_view_count": null,
            "_view_module": "@jupyter-widgets/base",
            "_view_module_version": "1.2.0",
            "_view_name": "LayoutView",
            "align_content": null,
            "align_items": null,
            "align_self": null,
            "border": null,
            "bottom": null,
            "display": null,
            "flex": null,
            "flex_flow": null,
            "grid_area": null,
            "grid_auto_columns": null,
            "grid_auto_flow": null,
            "grid_auto_rows": null,
            "grid_column": null,
            "grid_gap": null,
            "grid_row": null,
            "grid_template_areas": null,
            "grid_template_columns": null,
            "grid_template_rows": null,
            "height": null,
            "justify_content": null,
            "justify_items": null,
            "left": null,
            "margin": null,
            "max_height": null,
            "max_width": null,
            "min_height": null,
            "min_width": null,
            "object_fit": null,
            "object_position": null,
            "order": null,
            "overflow": null,
            "overflow_x": null,
            "overflow_y": null,
            "padding": null,
            "right": null,
            "top": null,
            "visibility": null,
            "width": null
          }
        },
        "fdc274f0c2634dc6912df39a0602b1ee": {
          "model_module": "@jupyter-widgets/controls",
          "model_name": "DescriptionStyleModel",
          "model_module_version": "1.5.0",
          "state": {
            "_model_module": "@jupyter-widgets/controls",
            "_model_module_version": "1.5.0",
            "_model_name": "DescriptionStyleModel",
            "_view_count": null,
            "_view_module": "@jupyter-widgets/base",
            "_view_module_version": "1.2.0",
            "_view_name": "StyleView",
            "description_width": ""
          }
        },
        "e4a3c9b0f51c4d09840b075d103902e9": {
          "model_module": "@jupyter-widgets/base",
          "model_name": "LayoutModel",
          "model_module_version": "1.2.0",
          "state": {
            "_model_module": "@jupyter-widgets/base",
            "_model_module_version": "1.2.0",
            "_model_name": "LayoutModel",
            "_view_count": null,
            "_view_module": "@jupyter-widgets/base",
            "_view_module_version": "1.2.0",
            "_view_name": "LayoutView",
            "align_content": null,
            "align_items": null,
            "align_self": null,
            "border": null,
            "bottom": null,
            "display": null,
            "flex": null,
            "flex_flow": null,
            "grid_area": null,
            "grid_auto_columns": null,
            "grid_auto_flow": null,
            "grid_auto_rows": null,
            "grid_column": null,
            "grid_gap": null,
            "grid_row": null,
            "grid_template_areas": null,
            "grid_template_columns": null,
            "grid_template_rows": null,
            "height": null,
            "justify_content": null,
            "justify_items": null,
            "left": null,
            "margin": null,
            "max_height": null,
            "max_width": null,
            "min_height": null,
            "min_width": null,
            "object_fit": null,
            "object_position": null,
            "order": null,
            "overflow": null,
            "overflow_x": null,
            "overflow_y": null,
            "padding": null,
            "right": null,
            "top": null,
            "visibility": null,
            "width": "20px"
          }
        },
        "21054e80c575487cbb77a4daf0f1babd": {
          "model_module": "@jupyter-widgets/controls",
          "model_name": "ProgressStyleModel",
          "model_module_version": "1.5.0",
          "state": {
            "_model_module": "@jupyter-widgets/controls",
            "_model_module_version": "1.5.0",
            "_model_name": "ProgressStyleModel",
            "_view_count": null,
            "_view_module": "@jupyter-widgets/base",
            "_view_module_version": "1.2.0",
            "_view_name": "StyleView",
            "bar_color": null,
            "description_width": ""
          }
        },
        "1230db6ad88f44fa8ffd4d04cc191c96": {
          "model_module": "@jupyter-widgets/base",
          "model_name": "LayoutModel",
          "model_module_version": "1.2.0",
          "state": {
            "_model_module": "@jupyter-widgets/base",
            "_model_module_version": "1.2.0",
            "_model_name": "LayoutModel",
            "_view_count": null,
            "_view_module": "@jupyter-widgets/base",
            "_view_module_version": "1.2.0",
            "_view_name": "LayoutView",
            "align_content": null,
            "align_items": null,
            "align_self": null,
            "border": null,
            "bottom": null,
            "display": null,
            "flex": null,
            "flex_flow": null,
            "grid_area": null,
            "grid_auto_columns": null,
            "grid_auto_flow": null,
            "grid_auto_rows": null,
            "grid_column": null,
            "grid_gap": null,
            "grid_row": null,
            "grid_template_areas": null,
            "grid_template_columns": null,
            "grid_template_rows": null,
            "height": null,
            "justify_content": null,
            "justify_items": null,
            "left": null,
            "margin": null,
            "max_height": null,
            "max_width": null,
            "min_height": null,
            "min_width": null,
            "object_fit": null,
            "object_position": null,
            "order": null,
            "overflow": null,
            "overflow_x": null,
            "overflow_y": null,
            "padding": null,
            "right": null,
            "top": null,
            "visibility": null,
            "width": null
          }
        },
        "54b403dd57304e7e9c6295629824c74c": {
          "model_module": "@jupyter-widgets/controls",
          "model_name": "DescriptionStyleModel",
          "model_module_version": "1.5.0",
          "state": {
            "_model_module": "@jupyter-widgets/controls",
            "_model_module_version": "1.5.0",
            "_model_name": "DescriptionStyleModel",
            "_view_count": null,
            "_view_module": "@jupyter-widgets/base",
            "_view_module_version": "1.2.0",
            "_view_name": "StyleView",
            "description_width": ""
          }
        }
      }
    }
  },
  "nbformat": 4,
  "nbformat_minor": 0
}